{
 "cells": [
  {
   "cell_type": "markdown",
   "id": "e0c64f5d-77d1-4e57-af0a-3732a8ed0679",
   "metadata": {},
   "source": [
    "### Marketing - Restaurant Recommendation and Star Rating Analysis\n",
    "- This project aims to analyze restaurant data from a B2C portal to identify top-performing (\"star\") restaurants and generate meaningful recommendations using exploratory data analysis (EDA) and intelligent automation. The analysis is based on two datasets: one containing restaurant-level details and another mapping country codes.\n",
    "\n",
    "#### Objectives:\n",
    "-Perform preliminary data inspection and cleaning\n",
    "\n",
    "- Analyze geographic distribution and franchise presence\n",
    "\n",
    "- Explore key features such as table booking, online delivery, cost, and cuisine types\n",
    "\n",
    "- Understand how different variables affect restaurant ratings\n",
    "\n",
    "- Visualize insights through Tableau for better decision-making and dashboard creation"
   ]
  },
  {
   "cell_type": "markdown",
   "id": "c69f3118-656c-45ab-a57c-a4ead8eef592",
   "metadata": {},
   "source": [
    "#### Importing Data"
   ]
  },
  {
   "cell_type": "code",
   "execution_count": 8,
   "id": "953db9f9-5c5d-49f7-90cc-8e48f1b04367",
   "metadata": {},
   "outputs": [],
   "source": [
    "import pandas as pd\n",
    "\n",
    "#load the dataset\n",
    "data = pd.read_excel(\"data.xlsx\")\n",
    "country_code = pd.read_excel(\"Country-Code.xlsx\")\n"
   ]
  },
  {
   "cell_type": "markdown",
   "id": "0bf52c7c-f2c7-4f72-91bc-f11311787c5f",
   "metadata": {},
   "source": [
    "#### Data Inspection"
   ]
  },
  {
   "cell_type": "markdown",
   "id": "509264df-1e18-494c-88f3-20af3a5b6fdd",
   "metadata": {},
   "source": [
    "##### Checking basic structure"
   ]
  },
  {
   "cell_type": "code",
   "execution_count": 10,
   "id": "0312acff-de82-4de5-87ba-59ad84f629bc",
   "metadata": {},
   "outputs": [
    {
     "name": "stdout",
     "output_type": "stream",
     "text": [
      "Data Shape:  (9551, 19)\n",
      "Country code shape:  (15, 2)\n"
     ]
    }
   ],
   "source": [
    "#checking the shape (row x column) \n",
    "\n",
    "print(\"Data Shape: \", data.shape)\n",
    "print(\"Country code shape: \", country_code.shape)"
   ]
  },
  {
   "cell_type": "markdown",
   "id": "dda2bbd2-26fc-464f-884a-00b44def9947",
   "metadata": {},
   "source": [
    "#### 1. For \"Data\" table"
   ]
  },
  {
   "cell_type": "code",
   "execution_count": 12,
   "id": "6083c845-7854-43fb-8e0e-727241f9f655",
   "metadata": {},
   "outputs": [
    {
     "name": "stdout",
     "output_type": "stream",
     "text": [
      "<class 'pandas.core.frame.DataFrame'>\n",
      "RangeIndex: 9551 entries, 0 to 9550\n",
      "Data columns (total 19 columns):\n",
      " #   Column                Non-Null Count  Dtype  \n",
      "---  ------                --------------  -----  \n",
      " 0   Restaurant ID         9551 non-null   int64  \n",
      " 1   Restaurant Name       9550 non-null   object \n",
      " 2   Country Code          9551 non-null   int64  \n",
      " 3   City                  9551 non-null   object \n",
      " 4   Address               9551 non-null   object \n",
      " 5   Locality              9551 non-null   object \n",
      " 6   Locality Verbose      9551 non-null   object \n",
      " 7   Longitude             9551 non-null   float64\n",
      " 8   Latitude              9551 non-null   float64\n",
      " 9   Cuisines              9542 non-null   object \n",
      " 10  Average Cost for two  9551 non-null   int64  \n",
      " 11  Currency              9551 non-null   object \n",
      " 12  Has Table booking     9551 non-null   object \n",
      " 13  Has Online delivery   9551 non-null   object \n",
      " 14  Price range           9551 non-null   int64  \n",
      " 15  Aggregate rating      9551 non-null   float64\n",
      " 16  Rating color          9551 non-null   object \n",
      " 17  Rating text           9551 non-null   object \n",
      " 18  Votes                 9551 non-null   int64  \n",
      "dtypes: float64(3), int64(5), object(11)\n",
      "memory usage: 1.4+ MB\n"
     ]
    }
   ],
   "source": [
    "\n",
    "#check column names, data types and null values\n",
    "\n",
    "data.info()\n"
   ]
  },
  {
   "cell_type": "code",
   "execution_count": 14,
   "id": "5ae97bd0-ddaf-475a-976b-7a9aa7b1787e",
   "metadata": {},
   "outputs": [
    {
     "name": "stdout",
     "output_type": "stream",
     "text": [
      "\n",
      " Null values:  Restaurant ID           0\n",
      "Restaurant Name         1\n",
      "Country Code            0\n",
      "City                    0\n",
      "Address                 0\n",
      "Locality                0\n",
      "Locality Verbose        0\n",
      "Longitude               0\n",
      "Latitude                0\n",
      "Cuisines                9\n",
      "Average Cost for two    0\n",
      "Currency                0\n",
      "Has Table booking       0\n",
      "Has Online delivery     0\n",
      "Price range             0\n",
      "Aggregate rating        0\n",
      "Rating color            0\n",
      "Rating text             0\n",
      "Votes                   0\n",
      "dtype: int64\n"
     ]
    }
   ],
   "source": [
    "\n",
    "#checking for null values\n",
    "print(\"\\n Null values: \", data.isnull().sum())\n"
   ]
  },
  {
   "cell_type": "markdown",
   "id": "e365f26d-ea40-4aa1-b213-a873a4a22a0d",
   "metadata": {},
   "source": [
    "- Restaurant Name has <b>1 null value.</b>\n",
    "- Cuisines has <b>9 null values.</b>\n",
    "\n",
    "Since, <i> Restaurant Name</i> is one of the key identifiers and imptuing or guessing the name can't fix the null value so, we will drop this row. \n",
    "\n",
    "Likewise, we'll drop the rows with 9 null values for <i>Cuisines</i> column. We could have filled it with 'Unknown' as well. But, dropping these 9 rows\n",
    "is not huge for our dataset with 9551 rows (which is less than <b>0.1%</b> of our data thus, it wouldn't affect our analysis and gives us a clean data. "
   ]
  },
  {
   "cell_type": "code",
   "execution_count": 16,
   "id": "7bc5a1e1-c2f6-4a1b-b422-7f50473856ce",
   "metadata": {},
   "outputs": [
    {
     "name": "stdout",
     "output_type": "stream",
     "text": [
      "Null values after dropping: \n",
      "\n",
      "Restaurant Name    0\n",
      "Cuisines           0\n",
      "dtype: int64\n"
     ]
    }
   ],
   "source": [
    "\n",
    "#dropping rows where 'Restaurant Name' and 'Cuisines' is null\n",
    "data = data.dropna(subset=['Restaurant Name','Cuisines'])\n",
    "\n",
    "#confirming that null values are removed from both columns\n",
    "print(\"Null values after dropping: \\n\")\n",
    "print(data[['Restaurant Name', 'Cuisines']].isnull().sum())\n",
    "\n"
   ]
  },
  {
   "cell_type": "code",
   "execution_count": 18,
   "id": "bb806b75-39aa-4e3f-b5a4-662f4148b198",
   "metadata": {},
   "outputs": [
    {
     "name": "stdout",
     "output_type": "stream",
     "text": [
      "Number of duplicate rows: 0\n"
     ]
    }
   ],
   "source": [
    "# Check for duplicate rows\n",
    "duplicate_count = data.duplicated().sum()\n",
    "print(f\"Number of duplicate rows: {duplicate_count}\")\n"
   ]
  },
  {
   "cell_type": "markdown",
   "id": "facbfb11-6589-4e2b-88b6-83aa565610fa",
   "metadata": {},
   "source": [
    "#### Exploring Categorical columns "
   ]
  },
  {
   "cell_type": "markdown",
   "id": "320fae0d-c2ef-4b9e-87d4-b68cca90167f",
   "metadata": {},
   "source": [
    "##### (A) Get all the categorical columns from \"Data\" table"
   ]
  },
  {
   "cell_type": "code",
   "execution_count": 20,
   "id": "9a752a70-9977-4ea4-94c4-17eb7d496105",
   "metadata": {},
   "outputs": [
    {
     "name": "stdout",
     "output_type": "stream",
     "text": [
      "All the Categorical columns from data are:\n",
      "Restaurant Name\n",
      "City\n",
      "Address\n",
      "Locality\n",
      "Locality Verbose\n",
      "Cuisines\n",
      "Currency\n",
      "Has Table booking\n",
      "Has Online delivery\n",
      "Rating color\n",
      "Rating text\n"
     ]
    }
   ],
   "source": [
    "#get all categorical cols (object-type) columns together\n",
    "categorical_columns = data.select_dtypes(include='object').columns\n",
    "print(\"All the Categorical columns from data are:\")\n",
    "for col in categorical_columns:  #print each column in a new line\n",
    "    print(col) "
   ]
  },
  {
   "cell_type": "markdown",
   "id": "b345b360-5222-4281-8bdd-63229e488905",
   "metadata": {},
   "source": [
    "##### (B) Exploring Unique Values and checking Data Quality\n",
    "- Out of 11 categorical columns, we'll leave few such as <i>Restaurant Name, Address, Locality Verbose, Currency and Rating Color</i> as\n",
    "  these do not play critical role in our objectives and we'll get too many unique values of these columns if done and it can be hard to visualize them.\n",
    "- We'll explore the remaining important categorical columns such as: <br>\n",
    "      <b>\n",
    "      - City\n",
    "      - Locality\n",
    "      - Cuisines\n",
    "      - Has Table Booking\n",
    "      - Has Online Delivery\n",
    "      - Rating Text           \n",
    "  </b></br>\n",
    "We are exploring unique values because:\n",
    "- <b>To understand the shape & complexity of the data.</b>\n",
    "      - Finding the no. of unique values help us answer if the column is simple or complex\n",
    "      - Are there many categories or just a few?\n",
    "      - Should we group, filter or drop this column later?\n",
    "- <b>To detect dirty or inconsistent data</b>\n",
    "    - When looking at the unique values, we oftern find typos error (eg. delhi Delhi), formatting issues, redundant categories, etc.\n",
    "- <b>To spot high cardinality columns</b>\n",
    "    - Some columns might have too many unique values which are not ideal for viz or aggregations and are mostly skipped for EDA."
   ]
  },
  {
   "cell_type": "markdown",
   "id": "b4578ee5-0946-45d9-9065-496553e6337b",
   "metadata": {},
   "source": [
    "#### City Column Exploration"
   ]
  },
  {
   "cell_type": "markdown",
   "id": "a5533ab7-944f-4fe4-b3ed-646a11b68eae",
   "metadata": {},
   "source": [
    "##### Unique values in City"
   ]
  },
  {
   "cell_type": "code",
   "execution_count": 22,
   "id": "082b0826-7ec0-4515-96ea-ded831540ddc",
   "metadata": {},
   "outputs": [
    {
     "name": "stdout",
     "output_type": "stream",
     "text": [
      "Unique values in City: 140\n",
      "\n",
      "List of unique cities:\n",
      "['Abu Dhabi', 'Agra', 'Ahmedabad', 'Albany', 'Allahabad', 'Amritsar', 'Ankara', 'Armidale', 'Athens', 'Auckland', 'Augusta', 'Aurangabad', 'Balingup', 'Bandung', 'Bangalore', 'Beechworth', 'Bhopal', 'Bhubaneshwar', 'Birmingham', 'Bogor', 'Boise', 'BrasÌ_lia', 'Cape Town', 'Cedar Rapids/Iowa City', 'Chandigarh', 'Chatham-Kent', 'Chennai', 'Clatskanie', 'Cochrane', 'Coimbatore', 'Colombo', 'Columbus', 'Consort', 'Dalton', 'Davenport', 'Dehradun', 'Des Moines', 'Dicky Beach', 'Doha', 'Dubai', 'Dubuque', 'East Ballina', 'Edinburgh', 'Faridabad', 'Fernley', 'Flaxton', 'Forrest', 'Gainesville', 'Ghaziabad', 'Goa', 'Gurgaon', 'Guwahati', 'Hepburn Springs', 'Huskisson', 'Hyderabad', 'Indore', 'Inner City', 'Inverloch', 'Jaipur', 'Jakarta', 'Johannesburg', 'Kanpur', 'Kochi', 'Kolkata', 'Lakes Entrance', 'Lakeview', 'Lincoln', 'London', 'Lorn', 'Lucknow', 'Ludhiana', 'Macedon', 'Macon', 'Makati City', 'Manchester', 'Mandaluyong City', 'Mangalore', 'Mayfield', 'Mc Millan', 'Middleton Beach', 'Mohali', 'Monroe', 'Montville', 'Mumbai', 'Mysore', 'Nagpur', 'Nashik', 'New Delhi', 'Noida', 'Ojo Caliente', 'Orlando', 'Palm Cove', 'Panchkula', 'Pasay City', 'Pasig City', 'Patna', 'Paynesville', 'Penola', 'Pensacola', 'Phillip Island', 'Pocatello', 'Potrero', 'Pretoria', 'Princeton', 'Puducherry', 'Pune', 'Quezon City', 'Ranchi', 'Randburg', 'Rest of Hawaii', 'Rio de Janeiro', 'San Juan City', 'Sandton', 'Santa Rosa', 'Savannah', 'Secunderabad', 'Sharjah', 'Singapore', 'Sioux City', 'Surat', 'SÌ£o Paulo', 'Tagaytay City', 'Taguig City', 'Tampa Bay', 'Tangerang', 'Tanunda', 'Trentham East', 'Vadodara', 'Valdosta', 'Varanasi', 'Vernonia', 'Victor Harbor', 'Vineland Station', 'Vizag', 'Waterloo', 'Weirton', 'Wellington City', 'Winchester Bay', 'Yorkton', '€¡stanbul']\n"
     ]
    }
   ],
   "source": [
    "# Unique values in 'City'\n",
    "print(\"Unique values in City:\", data['City'].nunique())\n",
    "print(\"\\nList of unique cities:\")\n",
    "print(sorted(data['City'].unique()))\n"
   ]
  },
  {
   "cell_type": "markdown",
   "id": "41072636-0e84-4aa5-87bf-fd9bcc712a25",
   "metadata": {},
   "source": [
    "##### Observation from above:\n",
    "- <b>140 Unique Cities</b>\n",
    "- relatively high-cardinality column but, not too high & we can still work with it for geo. distribution, filterning top-N cities, etc.\n",
    "- Cities come from many countries but mostly <b>India </b>\n",
    "- We can see some encoding issues for Brasilia, Sao Paulo and Istanbul, which should be cleaned "
   ]
  },
  {
   "cell_type": "markdown",
   "id": "7ab741aa-afc2-42ab-92e1-f87a6a892dfa",
   "metadata": {},
   "source": [
    "##### Frequency count of Cities"
   ]
  },
  {
   "cell_type": "code",
   "execution_count": 24,
   "id": "9948b4e7-820e-45d6-97fb-26f513bc0ee2",
   "metadata": {},
   "outputs": [
    {
     "name": "stdout",
     "output_type": "stream",
     "text": [
      "Top 10 cities with most restaurants:\n",
      "\n",
      "City\n",
      "New Delhi       5473\n",
      "Gurgaon         1118\n",
      "Noida           1080\n",
      "Faridabad        251\n",
      "Ghaziabad         25\n",
      "Bhubaneshwar      21\n",
      "Guwahati          21\n",
      "Lucknow           21\n",
      "Amritsar          21\n",
      "Sioux City        20\n",
      "Name: count, dtype: int64\n"
     ]
    }
   ],
   "source": [
    "# Frequency count of cities\n",
    "city_counts = data['City'].value_counts()\n",
    "\n",
    "# Display top 10 cities\n",
    "print(\"Top 10 cities with most restaurants:\\n\")\n",
    "print(city_counts.head(10))\n"
   ]
  },
  {
   "cell_type": "markdown",
   "id": "9548fe46-51f3-4bd1-9e64-aa2eba93f4fd",
   "metadata": {},
   "source": [
    "##### Observation from above:\n",
    "- The frequency distribution of the <i>City</i> column reveals a strong skew toward Indian cities, particularly New Delhi(5,473 entries) followed by Gurgaon & Noida.\n",
    "- These three alon dominate the dataset, indicating that the data is <b>heavily centered around the Delhi-NCR region</b>\n",
    "- While it may seem insightful to explore top Non-Inidan cities next, it's not essential at the current stage. The project's core obj. is to understand restaurant-level features(eg. ratings, delivery, cuisines) to identify star restaurants and not to perform country-wise comparisons.\n",
    "- Also, non-Indian cities have very low representation in the dataset, which would not yield statistically meaningful insights right now. "
   ]
  },
  {
   "cell_type": "markdown",
   "id": "c62e8b5f-c934-4d2b-93c4-cdabb0672e6c",
   "metadata": {},
   "source": [
    "##### Sorting Encoding Issues in City Names"
   ]
  },
  {
   "cell_type": "code",
   "execution_count": 26,
   "id": "c300b70e-9a44-4d55-a3b4-ccc5ebe60906",
   "metadata": {},
   "outputs": [],
   "source": [
    "#clean encoding issues manually\n",
    "data['City'] = data['City'].replace({\n",
    "    'BrasÌ_lia': 'Brasília',\n",
    "    'SÌ£o Paulo': 'São Paulo',#should preserve special characters &correct spellings to avoid duplication\n",
    "    '€¡stanbul': 'İstanbul'\n",
    "})"
   ]
  },
  {
   "cell_type": "markdown",
   "id": "cb58e538-bbb5-4992-98e9-eb470446c38f",
   "metadata": {},
   "source": [
    "##### Lowercase + title case all city names (for full consistency)"
   ]
  },
  {
   "cell_type": "code",
   "execution_count": 28,
   "id": "1c80ea69-001c-4a6b-a425-84a77af121eb",
   "metadata": {},
   "outputs": [],
   "source": [
    "\n",
    "#General cleaning of city names\n",
    "data['City'] = data['City'].str.strip().str.title() \n",
    "\n",
    "#str.strip() removes whitespaces & str.title() capitalized first letter of every word\n",
    "#this ensures consistency and it's a quick and safe cleaning step"
   ]
  },
  {
   "cell_type": "markdown",
   "id": "cdafbd0c-8fb9-4ec2-9615-72eeb0430517",
   "metadata": {},
   "source": [
    "##### Confirming City column cleaning"
   ]
  },
  {
   "cell_type": "code",
   "execution_count": 30,
   "id": "44ab8030-0a5b-458a-b8dc-61fb9a5515ec",
   "metadata": {},
   "outputs": [
    {
     "name": "stdout",
     "output_type": "stream",
     "text": [
      "Unique cities after cleaning:  140\n"
     ]
    }
   ],
   "source": [
    "print(\"Unique cities after cleaning: \", data['City'].nunique())"
   ]
  },
  {
   "cell_type": "markdown",
   "id": "b6a93d9c-2052-43d5-af07-9b0ce960fdfe",
   "metadata": {},
   "source": [
    "##### Observation: City column cleaning & Verification\n",
    "\n",
    "-The City column contains <b>141 unique city names</b> which were initially listed and visually inspected. During this inspection, a few encoding issues were identified such as: \n",
    "    - BrasÌ_lia → Brasília\n",
    "    - SÌ£o Paulo → São Paulo\n",
    "    - €¡stanbul → İstanbul\n",
    "\n",
    "- These were manually corrected to ensure proper labeling and grouping. In additon general cleaning was also applied which ensured any inconsistent casing or removal of extra spaces.\n",
    "\n",
    "- After cleaning, the no. of unique city names remained unchanged at 141, confirming that the values were normalized but not altered in quantity. \n",
    "      "
   ]
  },
  {
   "cell_type": "markdown",
   "id": "47313d9c-a07b-4e04-97d5-ee50b462cb26",
   "metadata": {},
   "source": [
    "#### Cuisines Column Exploration"
   ]
  },
  {
   "cell_type": "code",
   "execution_count": 32,
   "id": "9efd253b-9524-4e86-9b26-12f4ceb13360",
   "metadata": {},
   "outputs": [
    {
     "name": "stdout",
     "output_type": "stream",
     "text": [
      "0          Italian, Continental\n",
      "1    Asian, Indonesian, Western\n",
      "2               Sushi, Japanese\n",
      "3                      Japanese\n",
      "4               French, Western\n",
      "Name: Cuisines, dtype: object\n"
     ]
    }
   ],
   "source": [
    "print(data['Cuisines'].head())"
   ]
  },
  {
   "cell_type": "markdown",
   "id": "de7af906-75f7-4e51-8876-2e4bbb6427f9",
   "metadata": {},
   "source": [
    "###### Checking basic info - Unique Cuisine combinations"
   ]
  },
  {
   "cell_type": "code",
   "execution_count": 34,
   "id": "79277852-bfdb-4557-bda9-68a72023bf28",
   "metadata": {},
   "outputs": [
    {
     "name": "stdout",
     "output_type": "stream",
     "text": [
      "Unique cuisine combinations:  1825\n",
      "\n",
      "Sample unique cuisine combinations: \n",
      "['Italian, Continental' 'Asian, Indonesian, Western' 'Sushi, Japanese'\n",
      " 'Japanese' 'French, Western' 'Cafe, Western' 'Indonesian'\n",
      " 'Peranakan, Indonesian' 'Western, Asian, Cafe' 'Sunda, Indonesian']\n"
     ]
    }
   ],
   "source": [
    "# No. of unique cuisine combinations\n",
    "print(\"Unique cuisine combinations: \", data['Cuisines'].nunique())\n",
    "\n",
    "#Display few unique examples\n",
    "print(\"\\nSample unique cuisine combinations: \")\n",
    "print(data['Cuisines'].unique()[:10])"
   ]
  },
  {
   "cell_type": "markdown",
   "id": "d50d1101-dff4-4940-bc9c-c46cb20f518f",
   "metadata": {},
   "source": [
    "##### Observations: \n",
    "- <i>Cuisines</i> column contains <b>1,825 unique combinations </b>.\n",
    "- This makes the column high-cardinality as many combinations include the same cuisines in different orders or grouping. For eg: \"Sushi, Japanese\" and \"Japanese\" are treated as separate entries.\n",
    "- <b> Future work</b> - EDA: Cuisine Popularity Analysis (split and explode the column) "
   ]
  },
  {
   "cell_type": "markdown",
   "id": "a5888e6c-cb08-49ee-8ab8-a24853a992f5",
   "metadata": {},
   "source": [
    "##### Most common cuisines combinations"
   ]
  },
  {
   "cell_type": "code",
   "execution_count": 36,
   "id": "ac73c5ae-a666-477b-bc8c-8bb5309dcfd4",
   "metadata": {},
   "outputs": [
    {
     "name": "stdout",
     "output_type": "stream",
     "text": [
      "Top 10 most common cuisine combinations: \n",
      "Cuisines\n",
      "North Indian                      936\n",
      "North Indian, Chinese             511\n",
      "Chinese                           354\n",
      "Fast Food                         354\n",
      "North Indian, Mughlai             334\n",
      "Cafe                              299\n",
      "Bakery                            218\n",
      "North Indian, Mughlai, Chinese    197\n",
      "Bakery, Desserts                  170\n",
      "Street Food                       149\n",
      "Name: count, dtype: int64\n"
     ]
    }
   ],
   "source": [
    "#Frequency of top cuisine combinations\n",
    "\n",
    "print(\"Top 10 most common cuisine combinations: \")\n",
    "print(data['Cuisines'].value_counts().head(10))"
   ]
  },
  {
   "cell_type": "markdown",
   "id": "afd7583d-1405-479f-a775-e104134e0bbf",
   "metadata": {},
   "source": [
    "##### Observation: \n",
    "- The most commonly served cuisine is <b> North Indian </b> with 936 times.\n",
    "- It is also frequently paired with other cuisines such as <b> \"North Indian, Chinese\", \"North Indian, Mughlai\", \"North Indian, Mughlai, Chinese\"</b>\n",
    "- There are also other popular standalone or dual combinations like Fast food, Chinese, Cafe, etc.\n",
    "- The presence of multiple popular combos indicates a significant trend toward multi-cuisine restaurants.\n",
    "- <b>Future work</b> - A more detailed breakdown of individual cuisine frequencies may be performed later to understand cuisine popularity across cities and ratings. "
   ]
  },
  {
   "cell_type": "markdown",
   "id": "5a410c9b-605b-4133-a1d6-865a387cb6de",
   "metadata": {},
   "source": [
    "##### Looking for irregularities (Cuisine column)"
   ]
  },
  {
   "cell_type": "code",
   "execution_count": 38,
   "id": "526b72e0-c743-4e21-b233-d4d4121d1be5",
   "metadata": {},
   "outputs": [
    {
     "name": "stdout",
     "output_type": "stream",
     "text": [
      "Missing values in 'Cuisines': 0\n"
     ]
    },
    {
     "data": {
      "text/plain": [
       "array(['Chinese, North Indian, Street Food', 'Mithai, Street Food',\n",
       "       'Cafe', 'European, Lebanese, Mediterranean',\n",
       "       'American, Fast Food, Salad, Healthy Food', 'Chinese',\n",
       "       'North Indian', 'American, Burger', 'North Indian', 'Chinese'],\n",
       "      dtype=object)"
      ]
     },
     "execution_count": 38,
     "metadata": {},
     "output_type": "execute_result"
    }
   ],
   "source": [
    "# Check if any nulls remain (should be 0 if already cleaned)\n",
    "print(\"Missing values in 'Cuisines':\", data['Cuisines'].isnull().sum())\n",
    "\n",
    "# Sample a few rows for visual inspection\n",
    "data['Cuisines'].sample(10).values\n"
   ]
  },
  {
   "cell_type": "markdown",
   "id": "31007dc8-a159-47e9-9b34-14603678a568",
   "metadata": {},
   "source": [
    "##### Observation:\n",
    "- No missing values indicating that earlier cleaning step was successful.\n",
    "- A random sample of 10 rows was also visually inspected to detect any formatting issues or inconsistencies. All values followed a consistend structure with multiple cuisines(where applicable) separated by commas and no unusual symbols, encodings or inconsistent casing.\n",
    "- At this stage no further action is required under initial inspection.\n",
    "- <b>Future Work</b> - This column may be split and exploded into individual cuisines to evaluate popularity trends and correlations across other variables. (eg. how many restro serve \"Chinese\" regardless of combo, etc.)"
   ]
  },
  {
   "cell_type": "markdown",
   "id": "af7b099e-0fc6-445c-a19c-7937d1701326",
   "metadata": {},
   "source": [
    "#### Has Table booking Column Exploration\n",
    "-<b>\"Find out the ratio between restaurants that allow table booking vs. those that do not.\"</b>"
   ]
  },
  {
   "cell_type": "markdown",
   "id": "688fe62c-0acf-425e-90fb-735da8bbda86",
   "metadata": {},
   "source": [
    "##### Checking Unique Values & Frequency"
   ]
  },
  {
   "cell_type": "code",
   "execution_count": 40,
   "id": "45ea95db-eb17-4fb2-aaf3-c3418cf3cfb6",
   "metadata": {},
   "outputs": [
    {
     "name": "stdout",
     "output_type": "stream",
     "text": [
      "Unique values in 'Has Table booking': ['No' 'Yes']\n",
      "\n",
      "Count of restaurants with/without table booking:\n",
      "Has Table booking\n",
      "No     8383\n",
      "Yes    1158\n",
      "Name: count, dtype: int64\n"
     ]
    }
   ],
   "source": [
    "# Unique values\n",
    "print(\"Unique values in 'Has Table booking':\", data['Has Table booking'].unique())\n",
    "\n",
    "# Frequency count\n",
    "print(\"\\nCount of restaurants with/without table booking:\")\n",
    "print(data['Has Table booking'].value_counts())\n"
   ]
  },
  {
   "cell_type": "markdown",
   "id": "9867750e-743e-4ede-8b16-dd62380bb4b9",
   "metadata": {},
   "source": [
    "##### Observation: \n",
    "- This column has two unique values - <b> \"Yes\" </b> and <b> \"No\" </b>.\n",
    "- Out of all restaurants, <b>8,383 </b> do not offer table booking while only <b>1,158</b> do - this sums to the total of 9,541 records.\n",
    "- Since, no other unique values or missing entries are present, it confirms the column is clean, consistend & ready for analyis. "
   ]
  },
  {
   "cell_type": "markdown",
   "id": "e7c4b91e-7ff6-4eb0-870f-f82969f6f1ba",
   "metadata": {},
   "source": [
    "##### Calculate the Ratio"
   ]
  },
  {
   "cell_type": "code",
   "execution_count": 42,
   "id": "bd7bda16-0d77-413c-a873-d6576e197825",
   "metadata": {},
   "outputs": [
    {
     "name": "stdout",
     "output_type": "stream",
     "text": [
      "Has Table booking\n",
      "No     87.862907\n",
      "Yes    12.137093\n",
      "Name: proportion, dtype: float64\n"
     ]
    }
   ],
   "source": [
    "#calculate ratio\n",
    "table_booking_ratio = data['Has Table booking'].value_counts(normalize=True) * 100\n",
    "print(table_booking_ratio)"
   ]
  },
  {
   "cell_type": "markdown",
   "id": "56400a60-7b05-4b04-8a23-bdece7b8c9f3",
   "metadata": {},
   "source": [
    "##### Observation:\n",
    "- Out of 9,541 restaurants, only <b>12.1%</b> offer table booking, while the remaining <b>87.9%</b> do not. This indicates that the majority of restaurants in the dataset operate without a reservation system, <b> highlighting a strong preference for walk-in or quick-service dining models. </b>"
   ]
  },
  {
   "cell_type": "markdown",
   "id": "825d7eca-e9f9-4cfa-a57c-0468d7476344",
   "metadata": {},
   "source": [
    "#### Has Online delivery Column Exploration\n",
    "- <b>Find out the % of restaurants providing online delivery.</b>"
   ]
  },
  {
   "cell_type": "markdown",
   "id": "1664c697-ec24-4579-99fb-6400ea7b9adf",
   "metadata": {},
   "source": [
    "##### Unique values & frequency count"
   ]
  },
  {
   "cell_type": "code",
   "execution_count": 44,
   "id": "2ad3d633-ae86-4f07-b4d1-d387abab31a4",
   "metadata": {},
   "outputs": [
    {
     "name": "stdout",
     "output_type": "stream",
     "text": [
      "Unique values:  ['No' 'Yes']\n",
      "\n",
      "Count of restaurants with/without online delivery: \n",
      "Has Online delivery\n",
      "No     7090\n",
      "Yes    2451\n",
      "Name: count, dtype: int64\n"
     ]
    }
   ],
   "source": [
    "#unique values\n",
    "print(\"Unique values: \", data['Has Online delivery'].unique())\n",
    "\n",
    "#frequency count\n",
    "print(\"\\nCount of restaurants with/without online delivery: \")\n",
    "print(data['Has Online delivery'].value_counts())"
   ]
  },
  {
   "cell_type": "markdown",
   "id": "071ebffb-1f8b-4c40-b5ea-0e6ba0d8299e",
   "metadata": {},
   "source": [
    "###### Observation:\n",
    "- <i>Has Online delivery</i> column contains two unique values: <b>Yes</b> and <b>No</b>\n",
    "- <b>7,090 restaurants (74.3%)</b> do not provide online delivery.\n",
    "- <b>2,451 restaurants (25.7%)</b> do offer online delivery."
   ]
  },
  {
   "cell_type": "markdown",
   "id": "8d25b61c-a6ae-4b42-89fd-7c6af7f745a7",
   "metadata": {},
   "source": [
    "##### Calculate the percentage"
   ]
  },
  {
   "cell_type": "code",
   "execution_count": 46,
   "id": "d30c1059-69c2-49e3-8417-40c518075d4b",
   "metadata": {},
   "outputs": [
    {
     "name": "stdout",
     "output_type": "stream",
     "text": [
      "\n",
      "Percentage of restaurants with/without online delivery is:  Has Online delivery\n",
      "No     74.310869\n",
      "Yes    25.689131\n",
      "Name: proportion, dtype: float64\n"
     ]
    }
   ],
   "source": [
    "#% of restaurants with/without online delivery\n",
    "delivery_ratio = data['Has Online delivery'].value_counts(normalize=True) * 100\n",
    "print(\"\\nPercentage of restaurants with/without online delivery is: \", delivery_ratio)"
   ]
  },
  {
   "cell_type": "markdown",
   "id": "f7d20c60-4178-4026-9934-37d348999eae",
   "metadata": {},
   "source": [
    "##### Observation:\n",
    "- Majority <b>74.3%</b> do not provide online delivery while only <b>25.7%</b> offer online delivery.\n",
    "- <b>Future Work:</b>\n",
    "    - Compare <b>ratings</b> between restaurants with and without online delivery to identify if delivery availability affects ratings.\n",
    "    - Analyze <b>vote differences</b> between delivery vs. non-delivery. "
   ]
  },
  {
   "cell_type": "markdown",
   "id": "23e8fd8b-c9da-4231-bbc1-624d1db23101",
   "metadata": {},
   "source": [
    "#### Rating text Column Exploration"
   ]
  },
  {
   "cell_type": "markdown",
   "id": "4d7e7ef4-c0e2-4ab0-8828-485cb2e1e6a5",
   "metadata": {},
   "source": [
    "##### Unique values & frequency"
   ]
  },
  {
   "cell_type": "code",
   "execution_count": 48,
   "id": "14a4844e-b13f-499b-95e0-b075207e203d",
   "metadata": {},
   "outputs": [
    {
     "name": "stdout",
     "output_type": "stream",
     "text": [
      "Unique values:  ['Very Good' 'Excellent' 'Good' 'Average' 'Not rated' 'Poor']\n",
      "\n",
      "Count of restaurants by rating text: \n",
      "Rating text\n",
      "Average      3734\n",
      "Not rated    2148\n",
      "Good         2096\n",
      "Very Good    1077\n",
      "Excellent     300\n",
      "Poor          186\n",
      "Name: count, dtype: int64\n"
     ]
    }
   ],
   "source": [
    "#unique values\n",
    "print(\"Unique values: \", data['Rating text'].unique())\n",
    "\n",
    "#frequency count\n",
    "print(\"\\nCount of restaurants by rating text: \")\n",
    "print(data['Rating text'].value_counts())"
   ]
  },
  {
   "cell_type": "markdown",
   "id": "206d1009-3b6d-4e3f-beea-3e9d2f56b9f2",
   "metadata": {},
   "source": [
    "##### Observation:\n",
    "- The column contains <b>6 unique categoris.</b>\n",
    "- Most restaurants fall under <b>Average/b> category.\n",
    "- <b>For future EDA:</b>\n",
    "    - The <b>'Not rated'</b> group forms a significant portion & should be treated carefully in viz. & analysis.\n",
    "    - In deeper EDA, we can map <i>Rating text </i> to num. values. (eg. Excellent to 4.5+, Good to 3.5-4.0, etc.)\n",
    "    - Analyse how <b>rating categories</b> relate to other factors like <i>Cuisines, Online delivery, Table booking, Votes.</i>"
   ]
  },
  {
   "cell_type": "markdown",
   "id": "0f24c867-c20a-40d1-8683-f6a5e673f39d",
   "metadata": {},
   "source": [
    "### Exploring Numerical Columns"
   ]
  },
  {
   "cell_type": "markdown",
   "id": "60ab4d37-716e-41fb-adf3-1b7faf7ccf0d",
   "metadata": {},
   "source": [
    "#### (A) List all Numercial Columns"
   ]
  },
  {
   "cell_type": "code",
   "execution_count": 50,
   "id": "2960958c-a171-4682-b0ec-6698d9a2586a",
   "metadata": {},
   "outputs": [
    {
     "name": "stdout",
     "output_type": "stream",
     "text": [
      "All numerical columns in the data table are:\n",
      "- Restaurant ID\n",
      "- Country Code\n",
      "- Longitude\n",
      "- Latitude\n",
      "- Average Cost for two\n",
      "- Price range\n",
      "- Aggregate rating\n",
      "- Votes\n"
     ]
    }
   ],
   "source": [
    "#list all num. columns\n",
    "numerical_columns = data.select_dtypes(include=['int64', 'float64']).columns\n",
    "\n",
    "print(\"All numerical columns in the data table are:\")\n",
    "for col in numerical_columns:\n",
    "    print (\"-\", col)"
   ]
  },
  {
   "cell_type": "markdown",
   "id": "bbe8941a-fa50-4a05-ac94-964a8c24d8e3",
   "metadata": {},
   "source": [
    "##### Observation: \n",
    "- We will explore mainly <b> Votes, Average Cost for two and Aggregate rating </b> for now.\n",
    "- And skip rest of the other columns as they do not play significant role to our project's goal.\n"
   ]
  },
  {
   "cell_type": "markdown",
   "id": "1d142234-6dab-42fb-bc19-2cea634bd73c",
   "metadata": {},
   "source": [
    "#### (B) Exploring the selected num. columns"
   ]
  },
  {
   "cell_type": "markdown",
   "id": "06186ce9-f374-441c-8f0e-8ceb2a9708d7",
   "metadata": {},
   "source": [
    "#### Votes - column Exploration\n",
    "##### Basic Descriptive Stats"
   ]
  },
  {
   "cell_type": "code",
   "execution_count": 52,
   "id": "3e9eb5ed-daa9-42a3-906e-ec608741df7d",
   "metadata": {},
   "outputs": [
    {
     "name": "stdout",
     "output_type": "stream",
     "text": [
      "Summary statistics for 'Votes':\n",
      "count     9541.000000\n",
      "mean       156.707892\n",
      "std        430.180201\n",
      "min          0.000000\n",
      "25%          5.000000\n",
      "50%         31.000000\n",
      "75%        130.000000\n",
      "max      10934.000000\n",
      "Name: Votes, dtype: float64\n"
     ]
    }
   ],
   "source": [
    "# Summary statistics for Votes\n",
    "print(\"Summary statistics for 'Votes':\")\n",
    "print(data['Votes'].describe())\n"
   ]
  },
  {
   "cell_type": "markdown",
   "id": "cd4f6c84-3f73-40de-ad24-719bb216252c",
   "metadata": {},
   "source": [
    "##### Observation:\n",
    "- The <b>average</b> vote is <b>157</b>, but the <b>median</b> is only <b>31</b>, which means most restaurants get much <b>fewer votes than the average.</b>\n",
    "- This also indicated <b>righ-skewed distribution</b>, meaning:\n",
    "      - Most restaurants are on the <b>lower end</b> of the vote count.\n",
    "      - A few restaurants with very high votes <b>pull the average up.</b>\n",
    "      - The distribution is <b>not balanced</b>, and the mean can be misleading.\n",
    "- Max=10934 while 75% have ≤ 130 votes\n",
    "- <b>In later stage of EDA: </b> We may consider using a <b>log scale</b> to better view the vote distribution without being distorted by outliers.  "
   ]
  },
  {
   "cell_type": "code",
   "execution_count": 54,
   "id": "4eddcf91-d920-4e84-bb8f-59d7f1ef133f",
   "metadata": {},
   "outputs": [
    {
     "name": "stdout",
     "output_type": "stream",
     "text": [
      "Top 5 restaurants with highest votes:\n",
      "                Restaurant Name       City  Votes\n",
      "261                        Toit  Bangalore  10934\n",
      "1652                   Truffles  Bangalore   9667\n",
      "551            Hauz Khas Social  New Delhi   7931\n",
      "1241                  Peter Cat    Kolkata   7574\n",
      "777   AB's - Absolute Barbecues  Bangalore   6907\n",
      "520             Barbeque Nation    Kolkata   5966\n",
      "392                 Big Brewsky  Bangalore   5705\n",
      "647   AB's - Absolute Barbecues  Hyderabad   5434\n",
      "776             The Black Pearl  Bangalore   5385\n",
      "1503                      BarBQ    Kolkata   5288\n"
     ]
    }
   ],
   "source": [
    "# Quick look at top vote-getting restaurants\n",
    "print(\"Top 5 restaurants with highest votes:\")\n",
    "print(data[['Restaurant Name', 'City', 'Votes']].sort_values(by='Votes', ascending=False).head(10))\n"
   ]
  },
  {
   "cell_type": "markdown",
   "id": "25ddd309-ade5-4418-ac94-c61aac94c68c",
   "metadata": {},
   "source": [
    "##### Observation: \n",
    "A few restaurants have significantly higher vote counts (e.g., over 5,000 or 10,000), which may indicate popular or franchise chains. These <b>outliers</b> are not removed at this stage, but will be considered during EDA or when comparing average vote distributions."
   ]
  },
  {
   "cell_type": "markdown",
   "id": "7c3d3f11-ae8d-4454-b618-ff264b1f0889",
   "metadata": {},
   "source": [
    "#### Average Cost for two - Column Exploration\n",
    "##### Basic Descriptive Stats"
   ]
  },
  {
   "cell_type": "code",
   "execution_count": 56,
   "id": "1865af06-d654-441a-98d6-3ea1522a4b9d",
   "metadata": {},
   "outputs": [
    {
     "name": "stdout",
     "output_type": "stream",
     "text": [
      "Summary statistics for 'Average Cost for two':\n",
      "count      9541.000000\n",
      "mean       1200.368096\n",
      "std       16129.588655\n",
      "min           0.000000\n",
      "25%         250.000000\n",
      "50%         400.000000\n",
      "75%         700.000000\n",
      "max      800000.000000\n",
      "Name: Average Cost for two, dtype: float64\n"
     ]
    }
   ],
   "source": [
    "# Summary statistics for 'Average Cost for two'\n",
    "print(\"Summary statistics for 'Average Cost for two':\")\n",
    "print(data['Average Cost for two'].describe())\n"
   ]
  },
  {
   "cell_type": "markdown",
   "id": "cf052674-710e-4016-a07f-1fdf496298c3",
   "metadata": {},
   "source": [
    "##### Observation: \n",
    "- The <b>mean</b> cost is <b>1,199</b>, while the <b>75th percentile</b> is only <b>700</b>, which means most restaurants charge far below the average.\n",
    "\n",
    "- The <b>standard deviation is very high (16,121)</b> — this reinforces the idea that there are a few extremely expensive restaurants pulling the average up.\n",
    "\n",
    "- This suggests a <b>right-skewed distribution</b> where the data is heavily influenced by high-cost outliers.\n"
   ]
  },
  {
   "cell_type": "code",
   "execution_count": 58,
   "id": "f641f3f7-a735-48f1-9b02-725d94921d04",
   "metadata": {},
   "outputs": [
    {
     "name": "stdout",
     "output_type": "stream",
     "text": [
      "\n",
      "Top 10 most expensive restaurants:\n",
      "                Restaurant Name       City  Average Cost for two\n",
      "0                          Skye    Jakarta                800000\n",
      "1      Satoo - Hotel Shangri-La    Jakarta                800000\n",
      "2                    Sushi Masa    Jakarta                500000\n",
      "3                3 Wise Monkeys    Jakarta                450000\n",
      "4   Avec Moi Restaurant and Bar    Jakarta                350000\n",
      "5    Lucky Cat Coffee & Kitchen    Jakarta                300000\n",
      "6                       Onokabe  Tangerang                300000\n",
      "7                    Lemongrass      Bogor                250000\n",
      "8                         MONKS    Jakarta                250000\n",
      "12                        Zenbu    Jakarta                200000\n"
     ]
    }
   ],
   "source": [
    "#top 10 most expensive restaurants\n",
    "print(\"\\nTop 10 most expensive restaurants:\")\n",
    "print(data[['Restaurant Name', 'City', 'Average Cost for two']].sort_values(by='Average Cost for two', ascending=False).head(10))"
   ]
  },
  {
   "cell_type": "markdown",
   "id": "a12c5878-64a3-4f68-a316-88c9480a4bd9",
   "metadata": {},
   "source": [
    "##### Observation: \n",
    "Upon inspecting the <i>top 10 most expensive restaurants:</i>\n",
    "\n",
    "- Most are located in <b> Jakarta</b>, indicating that this city may either have a <b>concentration of luxury or premium dining options</b>\n",
    "\n",
    "- Or it may reflect <b>potential outliers </b>, as the top 2 restaurants show a suspiciously high cost value of 800,000, which is vastly beyond the typical range\n",
    "\n",
    "- No outlier removal is done at this stage, but these extreme values <b>should be reviewed during EDA </b>— especially when analyzing cost distributions, rating comparisons, or building dashboards\n",
    "\n",
    "- <b>Future work</b> - (When building dashboards) Grouping high-cost restaurants into a separate category like \"Luxury Range\" or using log scale or boxplots to handle visual distortion caused by these values"
   ]
  },
  {
   "cell_type": "markdown",
   "id": "f1703a5c-a671-4227-871c-125be5b5e792",
   "metadata": {},
   "source": [
    "#### Aggregate rating - Column Exploration\n",
    "##### Basic Descriptive Stats"
   ]
  },
  {
   "cell_type": "code",
   "execution_count": 60,
   "id": "3c70dafb-fafd-4b41-a06b-26f3af0fc767",
   "metadata": {},
   "outputs": [
    {
     "name": "stdout",
     "output_type": "stream",
     "text": [
      "Summary statistics for 'Aggregate rating':\n",
      "count    9541.000000\n",
      "mean        2.665088\n",
      "std         1.516596\n",
      "min         0.000000\n",
      "25%         2.500000\n",
      "50%         3.200000\n",
      "75%         3.700000\n",
      "max         4.900000\n",
      "Name: Aggregate rating, dtype: float64\n"
     ]
    }
   ],
   "source": [
    "# Summary statistics for 'Aggregate rating'\n",
    "print(\"Summary statistics for 'Aggregate rating':\")\n",
    "print(data['Aggregate rating'].describe())\n"
   ]
  },
  {
   "cell_type": "markdown",
   "id": "15de01cd-17fb-470b-b3c8-11513fc4c051",
   "metadata": {},
   "source": [
    "##### Observation: \n",
    "-The <b> average rating is 2.50</b>, while the <b>median is higher at 3.1</b>, indicating a <b>left-skewed </b> distribution\n",
    "\n",
    "- This suggests that most restaurants are rated above average, while a smaller number with low or 0.0 ratings pull the mean downward\n",
    "\n",
    "- The standard deviation is low, showing that ratings are fairly concentrated between 2.5 and 4.0\n",
    "\n",
    "-No restaurant is rated 5.0, possibly because the platform caps display ratings at 4.9\n",
    "\n",
    "<b>Future Work  in EDA: </b>\n",
    " -  Analyze the distribution of ratings using histograms or density plots\n",
    " -  Cross-analyze ratings by: `Cuisines, Delivery/Table booking options, Cost for two`\n",
    " -  Compare Aggregate rating with Rating text to see how numerical scores align with categories like “Good” or “Excellent\n",
    " -  Investigate how ratings relate to votes — do highly voted restaurants tend to have higher ratings?\n",
    " -  Look at the percentage of restaurants with 0.0 rating (i.e., \"Not rated\") for further filtering or tagging"
   ]
  },
  {
   "cell_type": "markdown",
   "id": "f823e45d-7095-4e27-9ad0-38f5e8fbb901",
   "metadata": {},
   "source": [
    "##### Check for Unique Ratings + Frequency Count"
   ]
  },
  {
   "cell_type": "code",
   "execution_count": 62,
   "id": "ba9822c1-c562-408d-88fc-8ea90b74da2b",
   "metadata": {},
   "outputs": [
    {
     "name": "stdout",
     "output_type": "stream",
     "text": [
      "\n",
      "Unique ratings and how often they appear:\n",
      "Aggregate rating\n",
      "0.0    2148\n",
      "1.8       1\n",
      "1.9       2\n",
      "2.0       7\n",
      "2.1      15\n",
      "2.2      27\n",
      "2.3      47\n",
      "2.4      87\n",
      "2.5     110\n",
      "2.6     191\n",
      "2.7     250\n",
      "2.8     315\n",
      "2.9     381\n",
      "3.0     468\n",
      "3.1     519\n",
      "3.2     522\n",
      "3.3     483\n",
      "3.4     495\n",
      "3.5     480\n",
      "3.6     458\n",
      "3.7     427\n",
      "3.8     399\n",
      "3.9     332\n",
      "4.0     266\n",
      "4.1     273\n",
      "4.2     221\n",
      "4.3     174\n",
      "4.4     143\n",
      "4.5      95\n",
      "4.6      78\n",
      "4.7      41\n",
      "4.8      25\n",
      "4.9      61\n",
      "Name: count, dtype: int64\n"
     ]
    }
   ],
   "source": [
    "# Check unique values and their counts\n",
    "print(\"\\nUnique ratings and how often they appear:\")\n",
    "print(data['Aggregate rating'].value_counts().sort_index())\n"
   ]
  },
  {
   "cell_type": "markdown",
   "id": "1284c9c4-d829-452f-80ab-32274cf100c7",
   "metadata": {},
   "source": [
    "##### Observation: \n",
    "- contains discrete values ranging from 0.0 to 4.9, increasing in 0.1 steps\n",
    "- The most common rating is <b>0.0</b>, appearing in <b>2,148 rows</b>, indicating a large number of restaurants are <b>\"Not rated\"</b>\n",
    "- Ratings between <b>2.5 and 4.0 </b>are the most frequent, forming a concentrated band where the majority of rated restaurants fall"
   ]
  },
  {
   "cell_type": "markdown",
   "id": "62b7b9a0-6920-4ff8-8dbb-2d8bfd6946b8",
   "metadata": {},
   "source": [
    "#### 2. For \"Country-Code\" table"
   ]
  },
  {
   "cell_type": "markdown",
   "id": "55cf9a1f-ffb0-4ce3-954e-a4d9c4956fb7",
   "metadata": {},
   "source": [
    "##### Checking basic str, null-values, duplicates and uniqueness"
   ]
  },
  {
   "cell_type": "code",
   "execution_count": 66,
   "id": "48bc961f-066e-43bc-948f-0c66f424d86a",
   "metadata": {},
   "outputs": [
    {
     "name": "stdout",
     "output_type": "stream",
     "text": [
      "<class 'pandas.core.frame.DataFrame'>\n",
      "RangeIndex: 15 entries, 0 to 14\n",
      "Data columns (total 2 columns):\n",
      " #   Column        Non-Null Count  Dtype \n",
      "---  ------        --------------  ----- \n",
      " 0   Country Code  15 non-null     int64 \n",
      " 1   Country       15 non-null     object\n",
      "dtypes: int64(1), object(1)\n",
      "memory usage: 372.0+ bytes\n"
     ]
    }
   ],
   "source": [
    "\n",
    "#check column names, data types and null values\n",
    "\n",
    "country_code.info()"
   ]
  },
  {
   "cell_type": "code",
   "execution_count": 70,
   "id": "9df10464-276c-4c1e-aa8f-3340560dd2ab",
   "metadata": {},
   "outputs": [
    {
     "name": "stdout",
     "output_type": "stream",
     "text": [
      "Null values in country_code table:\n",
      " Country Code    0\n",
      "Country         0\n",
      "dtype: int64\n"
     ]
    }
   ],
   "source": [
    "\n",
    "#checking for null values\n",
    "\n",
    "print(\"Null values in country_code table:\\n\", country_code.isnull().sum())\n"
   ]
  },
  {
   "cell_type": "code",
   "execution_count": 72,
   "id": "6a996a93-52c6-4eb9-84f1-2c15198c5139",
   "metadata": {},
   "outputs": [
    {
     "name": "stdout",
     "output_type": "stream",
     "text": [
      "Number of duplicate rows: 0\n"
     ]
    }
   ],
   "source": [
    "\n",
    "#checking for duplicates\n",
    "duplicate_countries = country_code.duplicated().sum()\n",
    "print(f\"Number of duplicate rows: {duplicate_countries}\")\n"
   ]
  },
  {
   "cell_type": "code",
   "execution_count": 74,
   "id": "8ed5507b-e873-4bde-84b3-8db229c1421b",
   "metadata": {},
   "outputs": [
    {
     "name": "stdout",
     "output_type": "stream",
     "text": [
      "Unique countries: ['India' 'Australia' 'Brazil' 'Canada' 'Indonesia' 'New Zealand'\n",
      " 'Phillipines' 'Qatar' 'Singapore' 'South Africa' 'Sri Lanka' 'Turkey'\n",
      " 'UAE' 'United Kingdom' 'United States']\n"
     ]
    }
   ],
   "source": [
    "#unique country\n",
    "print(\"Unique countries:\", country_code['Country'].unique())\n"
   ]
  },
  {
   "cell_type": "markdown",
   "id": "ed68bdb1-d4a8-49da-97b5-e0659a2c74ed",
   "metadata": {},
   "source": [
    "## Exploratory Data Analysis (EDA)\n",
    "### Geographical Distribution\n",
    "- Identifying the cities with the <b>maximum and minimum number of restaurants</b>"
   ]
  },
  {
   "cell_type": "code",
   "execution_count": 76,
   "id": "74f649e8-c760-44db-90d7-c91a0fd069e0",
   "metadata": {},
   "outputs": [
    {
     "name": "stdout",
     "output_type": "stream",
     "text": [
      "Number of unique cities: 140\n",
      "\n",
      "Top 10 cities with the most restaurants:\n",
      "City\n",
      "New Delhi       5473\n",
      "Gurgaon         1118\n",
      "Noida           1080\n",
      "Faridabad        251\n",
      "Ghaziabad         25\n",
      "Bhubaneshwar      21\n",
      "Guwahati          21\n",
      "Lucknow           21\n",
      "Amritsar          21\n",
      "Sioux City        20\n",
      "Name: count, dtype: int64\n",
      "\n",
      "Bottom 10 cities with fewer restaurants:\n",
      "City\n",
      "Middleton Beach    1\n",
      "Montville          1\n",
      "Palm Cove          1\n",
      "Tanunda            1\n",
      "Chatham-Kent       1\n",
      "Consort            1\n",
      "Lincoln            1\n",
      "Monroe             1\n",
      "Potrero            1\n",
      "Lakes Entrance     1\n",
      "Name: count, dtype: int64\n"
     ]
    }
   ],
   "source": [
    "print(\"Number of unique cities:\", data['City'].nunique())\n",
    "\n",
    "#count restaurants per city\n",
    "city_counts = data['City'].value_counts()\n",
    "\n",
    "#display top 10 cities\n",
    "print(\"\\nTop 10 cities with the most restaurants:\")\n",
    "print(city_counts.head(10))\n",
    "\n",
    "#display bottom 10 cities\n",
    "print(\"\\nBottom 10 cities with fewer restaurants:\")\n",
    "print(city_counts.tail(10))"
   ]
  },
  {
   "cell_type": "code",
   "execution_count": 90,
   "id": "fa50c405-06ef-4cba-b753-5778e6f47361",
   "metadata": {},
   "outputs": [
    {
     "data": {
      "image/png": "[encoded data removed]",
      "text/plain": [
       "<Figure size 1000x600 with 1 Axes>"
      ]
     },
     "metadata": {},
     "output_type": "display_data"
    }
   ],
   "source": [
    "#visualize into bar chart\n",
    "\n",
    "import matplotlib.pyplot as plt\n",
    "\n",
    "#get top 10 cities\n",
    "top_cities = data['City'].value_counts().head(10)\n",
    "\n",
    "#plot the bar chart\n",
    "plt.figure(figsize=(10,6))\n",
    "top_cities.plot(kind='bar', color='green', edgecolor='black')\n",
    "\n",
    "plt.title('Top 10 cities with most restaurants')\n",
    "plt.xlabel('City')\n",
    "plt.ylabel('Number of restaurants')\n",
    "plt.xticks(rotation=50)\n",
    "plt.grid(axis='y', linestyle='--', alpha=0.7)\n",
    "plt.show()"
   ]
  },
  {
   "cell_type": "markdown",
   "id": "d5bbaa0b-e394-4d4e-931b-442cdec76b14",
   "metadata": {},
   "source": [
    "##### Observation (EDA-Geographical Distribution)\n",
    "- The dataset includes restaurants from 140 cities, with distribution heavily skewed toward a few major locations.\n",
    "\n",
    "- <b>New Delhi </b> alone accounts for <b>5,473</b> restaurants, followed by <b>Gurgaon (1,118)</b> and <b>Noida (1,080)</b> — showing strong concentration in the Delhi-NCR region.\n",
    "\n",
    "- Other cities like Faridabad, Ghaziabad, and Lucknow appear in the top 10, but with significantly lower counts.\n",
    "\n",
    "- On the other hand, the bottom 10 cities (such as Middleton Beach, Montville, Potrero) each have only one restaurant, reflecting extremely limited presence in those regions.\n",
    "\n",
    "- This distribution highlights a <b>geographic imbalance </b>, with the majority of restaurant data concentrated in a few Indian cities.\n",
    "\n",
    "- A bar chart of the top 10 cities was plotted to visually support this observation and will be useful in dashboarding and reporting stages."
   ]
  },
  {
   "cell_type": "markdown",
   "id": "8296ea33-182c-4335-bcd3-76a4ae7ca687",
   "metadata": {},
   "source": [
    "### Franchise Presence Across Cities \n",
    "- Identifying the <b>franchise with the most national presence (per country).</b>"
   ]
  },
  {
   "cell_type": "markdown",
   "id": "36f09173-b3ac-4049-bcd7-1cd86e999d08",
   "metadata": {},
   "source": [
    "##### 1. Merge the `data` and `Country-Code` tables"
   ]
  },
  {
   "cell_type": "code",
   "execution_count": 78,
   "id": "84abb782-40dd-49c5-8310-849148e5f617",
   "metadata": {},
   "outputs": [],
   "source": [
    "\n",
    "# Merge the datasets on 'Country Code'\n",
    "merged_data = data.merge(country_code, how='left', on='Country Code') \n"
   ]
  },
  {
   "cell_type": "markdown",
   "id": "852cfd73-5d61-4d4b-9db1-20052add660c",
   "metadata": {},
   "source": [
    "##### 2. Group by `Restaurant Name` and `Country` → Count unique cities"
   ]
  },
  {
   "cell_type": "code",
   "execution_count": 80,
   "id": "84a25226-1cb5-480a-8d39-2bba016a0a05",
   "metadata": {},
   "outputs": [
    {
     "name": "stdout",
     "output_type": "stream",
     "text": [
      "Top 10 franchises with the widest national presence:\n",
      "        Restaurant Name Country  Unique Cities\n",
      "664     Barbeque Nation   India             21\n",
      "4965          Pizza Hut   India             11\n",
      "3318                KFC   India              8\n",
      "6888  The Yellow Chilli   India              7\n",
      "2100     Domino's Pizza   India              7\n",
      "4928      Pind Balluchi   India              7\n",
      "4218              Mocha   India              7\n",
      "4081         McDonald's   India              7\n",
      "3961     Mainland China   India              6\n",
      "682      Baskin Robbins   India              5\n"
     ]
    }
   ],
   "source": [
    "# Count number of unique cities each franchise appears in, within each country\n",
    "franchise_national_presence = (\n",
    "    merged_data.groupby(['Restaurant Name', 'Country'])['City']\n",
    "    .nunique()\n",
    "    .reset_index()\n",
    "    .rename(columns={'City': 'Unique Cities'})\n",
    "    .sort_values(by='Unique Cities', ascending=False)\n",
    ")\n",
    "\n",
    "# Display top 10 franchises with the widest national presence\n",
    "print(\"Top 10 franchises with the widest national presence:\")\n",
    "print (franchise_national_presence.head(10))\n"
   ]
  },
  {
   "cell_type": "markdown",
   "id": "e83aae87-253e-4359-b919-7b56e4680d7e",
   "metadata": {},
   "source": [
    "##### Observation: \n",
    "- This task aimed to identify the <b>franchise with the most national presence</b>, defined as the restaurant brand with the <b>widest geographic spread within a single country</b>.\n",
    "\n",
    "- To answer this meaningfully, the <code>data</code> and <code>country_code</code> tables were <b>merged</b>, and the analysis was performed using both <b>Restaurant Name</b> and <b>Country</b>, grouped by the number of <b>unique cities</b> each franchise operates in.\n",
    "\n",
    "- The goal here is <b>not</b> to identify brands with the highest number of total outlets, but rather those with the <b>broadest city-level coverage within national borders</b> — a better indicator of <b>market penetration</b> and <b>strategic brand reach</b>.\n",
    "\n",
    "- A brand that appears in <b>20 different cities</b> across a country is more likely to be seen by a wider user base and has greater <b>influence in recommendation systems</b>, compared to a brand with many outlets in just one or two cities.\n",
    "\n",
    "- The results show that <b>Barbeque Nation</b> has the strongest national presence in India, appearing in <b>21 unique cities</b>. Other notable brands include <b>Pizza Hut</b>, <b>KFC</b>, <b>Domino’s</b>, and <b>McDonald’s</b>, each present in multiple Indian cities.\n",
    "\n",
    "- However, it is important to note that since <b>India dominates the dataset</b> (e.g., <b>New Delhi alone has 5,473 entries</b>), this result is <b>real</b> but <b>heavily biased</b> by the dataset’s India-centric distribution.\n",
    "\n",
    "- To ensure fair analysis and global insight, we should also identify the <b>top national franchise in each country</b> represented in the dataset — offering a more balanced view of brand presence per region."
   ]
  },
  {
   "cell_type": "markdown",
   "id": "f9a84781-0f9b-491e-b052-ddaa4eada720",
   "metadata": {},
   "source": [
    "##### 3. Find the top franchsise per country"
   ]
  },
  {
   "cell_type": "code",
   "execution_count": 82,
   "id": "5da6665d-a768-456a-bf4a-831129c737c9",
   "metadata": {},
   "outputs": [
    {
     "name": "stdout",
     "output_type": "stream",
     "text": [
      "Top Franchise per Country are: \n",
      "        Restaurant Name         Country  Unique Cities\n",
      "0       Barbeque Nation           India             21\n",
      "1       Texas Roadhouse   United States              4\n",
      "2            Applebee's             UAE              3\n",
      "3            Chaophraya  United Kingdom              3\n",
      "4      Talaga Sampireun       Indonesia              2\n",
      "5      Silantro Fil-Mex     Phillipines              2\n",
      "6      Al'frank Cookies       Singapore              1\n",
      "7   1918 Bistro & Grill       Australia              1\n",
      "8       23 On Hazelwood    South Africa              1\n",
      "9       Big Fish Eatery     New Zealand              1\n",
      "10                 Bibi          Brazil              1\n",
      "11             Aalishan           Qatar              1\n",
      "12      Arabian Knights       Sri Lanka              1\n",
      "13        Arigato Sushi          Canada              1\n",
      "14         AÅÙÅÙk Kahve          Turkey              1\n"
     ]
    }
   ],
   "source": [
    "# Find the top franchise per country with the most unique cities\n",
    "top_franchise_per_country = (\n",
    "   franchise_national_presence.sort_values(by='Unique Cities', ascending=False)\n",
    "    .groupby('Country')\n",
    "    .head(1)\n",
    "    .reset_index(drop=True)\n",
    ")\n",
    "\n",
    "# Display the result\n",
    "print (\"Top Franchise per Country are: \")\n",
    "print (top_franchise_per_country)\n"
   ]
  },
  {
   "cell_type": "markdown",
   "id": "0dae7f9b-cd05-44a4-934c-ff0d929ee162",
   "metadata": {},
   "source": [
    "##### Observation:\n",
    "- The results show that <b>Barbeque Nation</b> leads in India with a presence in <b>21 cities</b>, while <b>Texas Roadhouse</b> (USA), <b>Applebee’s</b> (UAE), and <b>Chaophraya</b> (UK) are the most nationally spread brands in their respective countries.\n",
    "\n",
    "- Several countries, especially those with limited data (e.g., Turkey, Canada, Sri Lanka), have brands present in <b>only one city</b>, which may reflect either limited franchise spread or limited data coverage.\n",
    "\n",
    "- This global perspective enhances the analysis by identifying <b>regionally dominant brands</b> across different national markets, supporting more targeted and localized recommendations for the B2C platform.\n",
    "\n"
   ]
  },
  {
   "cell_type": "markdown",
   "id": "94a22478-237e-463e-a0f9-7d9446ae641e",
   "metadata": {},
   "source": [
    "### Ratio Between Restaurants That Allow Table Booking vs. Those That Don’t"
   ]
  },
  {
   "cell_type": "code",
   "execution_count": 84,
   "id": "7814910e-9ba9-41e2-8188-44572d625bd3",
   "metadata": {},
   "outputs": [
    {
     "name": "stdout",
     "output_type": "stream",
     "text": [
      "Percentage of restaurants with/without table booking:\n",
      "Has Table booking\n",
      "No     87.862907\n",
      "Yes    12.137093\n",
      "Name: proportion, dtype: float64\n"
     ]
    }
   ],
   "source": [
    "# Percentage of restaurants with and without table booking\n",
    "table_booking_ratio = data['Has Table booking'].value_counts(normalize=True) * 100\n",
    "print(\"Percentage of restaurants with/without table booking:\")\n",
    "print(table_booking_ratio)\n"
   ]
  },
  {
   "cell_type": "code",
   "execution_count": 86,
   "id": "90a2383b-68d1-4cb4-8242-80c9f5fcd735",
   "metadata": {},
   "outputs": [
    {
     "data": {
      "image/png": "[encoded data removed]",
      "text/plain": [
       "<Figure size 640x480 with 1 Axes>"
      ]
     },
     "metadata": {},
     "output_type": "display_data"
    }
   ],
   "source": [
    "import matplotlib.pyplot as plt\n",
    "\n",
    "# Bar chart for table booking availability\n",
    "data['Has Table booking'].value_counts().plot(kind='bar', color='lightblue', edgecolor='black')\n",
    "plt.title('Table Booking Availability')\n",
    "plt.xlabel('Has Table booking')\n",
    "plt.ylabel('Number of Restaurants')\n",
    "plt.xticks(rotation=0)\n",
    "plt.grid(axis='y', linestyle='--', alpha=0.7)\n",
    "plt.tight_layout()\n",
    "plt.show()\n"
   ]
  },
  {
   "cell_type": "markdown",
   "id": "646d8169-8498-4935-892d-9cb7aaae9692",
   "metadata": {
    "jp-MarkdownHeadingCollapsed": true
   },
   "source": [
    "##### Observation:\n",
    "- The `Has Table booking` column indicates whether a restaurant allows customers to reserve tables in advance.\n",
    "\n",
    "- Out of <b>9,541 restaurants</b>, only <b>12.1% </b> offer table booking, while a significant <b> 87.9% </b>do not.\n",
    "\n",
    "- This highlights that <b>most restaurants in the dataset follow a walk-in or quick-service model, with limited emphasis on advance reservations.\n",
    "</b>\n",
    "- A bar chart was plotted to visually demonstrate the large disparity between restaurants that offer and do not offer table booking, which can support insights in user-facing dashboards or filters."
   ]
  },
  {
   "cell_type": "markdown",
   "id": "abafef85-aab6-45bc-bbc5-cd2366e8316d",
   "metadata": {},
   "source": [
    "### Percentage of Restaurants Providing Online Delivery"
   ]
  },
  {
   "cell_type": "code",
   "execution_count": 88,
   "id": "68edafdd-d75c-4220-b190-573d0d50dd7c",
   "metadata": {},
   "outputs": [
    {
     "name": "stdout",
     "output_type": "stream",
     "text": [
      "Percentage of restaurants with/without online delivery:\n",
      "Has Online delivery\n",
      "No     74.310869\n",
      "Yes    25.689131\n",
      "Name: proportion, dtype: float64\n"
     ]
    }
   ],
   "source": [
    "# Percentage of restaurants with and without online delivery\n",
    "online_delivery_ratio = data['Has Online delivery'].value_counts(normalize=True) * 100\n",
    "print(\"Percentage of restaurants with/without online delivery:\")\n",
    "print(online_delivery_ratio)\n"
   ]
  },
  {
   "cell_type": "code",
   "execution_count": 90,
   "id": "6883b849-67a4-4abb-98ba-014c629ab533",
   "metadata": {},
   "outputs": [
    {
     "data": {
      "image/png": "[encoded data removed]",
      "text/plain": [
       "<Figure size 640x480 with 1 Axes>"
      ]
     },
     "metadata": {},
     "output_type": "display_data"
    }
   ],
   "source": [
    "# Bar chart for online delivery availability\n",
    "data['Has Online delivery'].value_counts().plot(kind='bar', color='lightgreen', edgecolor='black')\n",
    "plt.title('Online Delivery Availability')\n",
    "plt.xlabel('Has Online delivery')\n",
    "plt.ylabel('Number of Restaurants')\n",
    "plt.xticks(rotation=0)\n",
    "plt.grid(axis='y', linestyle='--', alpha=0.7)\n",
    "plt.tight_layout()\n",
    "plt.show()\n"
   ]
  },
  {
   "cell_type": "markdown",
   "id": "b7f48d06-3239-4150-b116-4981551ddb78",
   "metadata": {},
   "source": [
    "##### Observation: \n",
    "- Only <b>25.7%</b> of restaurants offer online delivery, while the remaining <b>74.3%</b> do not.\n",
    "\n",
    "- This indicates that a <b>majority of restaurants in the dataset operate without online ordering support</b>, suggesting potential areas for expansion in delivery partnerships.\n",
    "\n",
    "- A bar chart was plotted to visually highlight the disparity between delivery-enabled and non-delivery restaurants."
   ]
  },
  {
   "cell_type": "markdown",
   "id": "19050a7c-cdde-43c8-8c94-b2a7f122f303",
   "metadata": {},
   "source": [
    "### Difference in Number of Votes Between Restaurants That Deliver vs. Don’t Deliver\n",
    "##### 1. Group and compare Average Votes"
   ]
  },
  {
   "cell_type": "code",
   "execution_count": 92,
   "id": "d49c0a9f-8516-4793-a47d-82254053b8b0",
   "metadata": {},
   "outputs": [
    {
     "data": {
      "text/html": [
       "<div>\n",
       "<style scoped>\n",
       "    .dataframe tbody tr th:only-of-type {\n",
       "        vertical-align: middle;\n",
       "    }\n",
       "\n",
       "    .dataframe tbody tr th {\n",
       "        vertical-align: top;\n",
       "    }\n",
       "\n",
       "    .dataframe thead th {\n",
       "        text-align: right;\n",
       "    }\n",
       "</style>\n",
       "<table border=\"1\" class=\"dataframe\">\n",
       "  <thead>\n",
       "    <tr style=\"text-align: right;\">\n",
       "      <th></th>\n",
       "      <th>Has Online delivery</th>\n",
       "      <th>Votes</th>\n",
       "    </tr>\n",
       "  </thead>\n",
       "  <tbody>\n",
       "    <tr>\n",
       "      <th>0</th>\n",
       "      <td>No</td>\n",
       "      <td>137.83</td>\n",
       "    </tr>\n",
       "    <tr>\n",
       "      <th>1</th>\n",
       "      <td>Yes</td>\n",
       "      <td>211.31</td>\n",
       "    </tr>\n",
       "  </tbody>\n",
       "</table>\n",
       "</div>"
      ],
      "text/plain": [
       "  Has Online delivery   Votes\n",
       "0                  No  137.83\n",
       "1                 Yes  211.31"
      ]
     },
     "execution_count": 92,
     "metadata": {},
     "output_type": "execute_result"
    }
   ],
   "source": [
    "# Calculate the average number of votes for delivery vs. non-delivery restaurants\n",
    "votes_by_delivery = data.groupby('Has Online delivery')['Votes'].mean().reset_index()\n",
    "\n",
    "# Round values for cleaner display\n",
    "votes_by_delivery['Votes'] = votes_by_delivery['Votes'].round(2)\n",
    "\n",
    "# Display the result\n",
    "votes_by_delivery\n"
   ]
  },
  {
   "cell_type": "code",
   "execution_count": 94,
   "id": "977dae38-4529-4bb7-bb24-ae2e5bdd45be",
   "metadata": {},
   "outputs": [
    {
     "data": {
      "image/png": "[encoded data removed]",
      "text/plain": [
       "<Figure size 600x400 with 1 Axes>"
      ]
     },
     "metadata": {},
     "output_type": "display_data"
    }
   ],
   "source": [
    "import matplotlib.pyplot as plt\n",
    "\n",
    "plt.figure(figsize=(6,4))\n",
    "votes_by_delivery.set_index('Has Online delivery')['Votes'].plot(kind='bar', color='salmon', edgecolor='black')\n",
    "\n",
    "plt.title('Average Votes: Delivery vs. No Delivery')\n",
    "plt.ylabel('Average Votes')\n",
    "plt.xlabel('Has Online delivery')\n",
    "plt.xticks(rotation=0)\n",
    "plt.grid(axis='y', linestyle='--', alpha=0.7)\n",
    "plt.tight_layout()\n",
    "plt.show()\n"
   ]
  },
  {
   "cell_type": "markdown",
   "id": "5a83d184-88e8-49ce-8fa4-e6789ba665a3",
   "metadata": {},
   "source": [
    "##### Observation: \n",
    "- Restaurants that offer <b>online delivery</b> receive <b>significantly more votes</b> on average compared to those that do not.\n",
    "\n",
    "- This suggests that delivery-enabled restaurants tend to have <b>higher customer engagement or visibility</b> on the platform.\n",
    "\n",
    "- The difference in average votes was clearly shown through a comparison table and supported with a bar chart for better interpretation."
   ]
  },
  {
   "cell_type": "markdown",
   "id": "63f358a3-aaa5-482a-942d-c3982aa9250e",
   "metadata": {},
   "source": [
    "### Top 10 cuisines served across cities\n",
    "- Identifying the most frequently served individual cuisines across all cities — not combinations like \"North Indian, Chinese\", but individual cuisine types (e.g., \"Chinese\" alone or as part of any combo).\n",
    "\n",
    "- Since the `Cuisines` column often contains multiple values per row, like \"North Indian, Chinese, Mughlai\", we need to:\n",
    "\n",
    "- Split these combinations\n",
    "\n",
    "- Explode them into individual entries\n",
    "\n",
    "- Count frequencies"
   ]
  },
  {
   "cell_type": "code",
   "execution_count": 96,
   "id": "bebbc164-9535-4eb6-ad2d-9650208d6946",
   "metadata": {},
   "outputs": [
    {
     "name": "stdout",
     "output_type": "stream",
     "text": [
      "Top 10 cuisines served across cities:\n",
      "Cuisines\n",
      "North Indian    3959\n",
      "Chinese         2735\n",
      "Fast Food       1986\n",
      "Mughlai          995\n",
      "Italian          763\n",
      "Bakery           745\n",
      "Continental      735\n",
      "Cafe             703\n",
      "Desserts         653\n",
      "South Indian     636\n",
      "Name: count, dtype: int64\n"
     ]
    }
   ],
   "source": [
    "# Drop missing values just in case (we already cleaned earlier, but just being safe)\n",
    "cuisine_cleaned = data['Cuisines'].dropna()\n",
    "\n",
    "# Split on comma and strip any extra whitespace\n",
    "cuisine_split = cuisine_cleaned.str.split(', ')\n",
    "\n",
    "# Explode into individual cuisine entries\n",
    "cuisine_exploded = cuisine_split.explode()\n",
    "\n",
    "# Count frequency of each cuisine\n",
    "cuisine_counts = cuisine_exploded.value_counts()\n",
    "\n",
    "# Display top 10\n",
    "print(\"Top 10 cuisines served across cities:\")\n",
    "print(cuisine_counts.head(10))\n"
   ]
  },
  {
   "cell_type": "code",
   "execution_count": 98,
   "id": "65344a79-81a6-49cf-afa1-602162602927",
   "metadata": {},
   "outputs": [
    {
     "data": {
      "image/png": "[encoded data removed]",
      "text/plain": [
       "<Figure size 640x480 with 1 Axes>"
      ]
     },
     "metadata": {},
     "output_type": "display_data"
    }
   ],
   "source": [
    "#Visualizing into  Bar chart to display top 10 cuisines\n",
    "cuisine_counts.head(10).plot(kind='bar', color='mediumseagreen', edgecolor='black')\n",
    "plt.title('Top 10 Most Served Cuisines Across Cities')\n",
    "plt.ylabel('Number of Restaurants')\n",
    "plt.xlabel('Cuisine')\n",
    "plt.xticks(rotation=45)\n",
    "plt.grid(axis='y', linestyle='--', alpha=0.7)\n",
    "plt.tight_layout()\n",
    "plt.show()\n"
   ]
  },
  {
   "cell_type": "markdown",
   "id": "178a19f5-d0bd-4e5c-a318-ab6c9900ab1a",
   "metadata": {},
   "source": [
    "##### Observation: \n",
    "- To analyze cuisine popularity, the multi-cuisine values in the Cuisines column were split and exploded into individual entries.\n",
    "\n",
    "- The most commonly served cuisines across cities are <b>North Indian</b>, <b>Chinese</b>, <b>Fast Food</b>, and <b>South Indian</b>, with <b>North Indian</b> being the most dominant.\n",
    "\n",
    "- These results reflect the general dining preferences across the dataset and can support the platform in curating cuisine-based recommendations.\n",
    "\n",
    "- A bar chart was used to visually represent the top 10 cuisines based on frequency of occurrence."
   ]
  },
  {
   "cell_type": "markdown",
   "id": "a75bae50-7a30-412d-8023-596a0d47d8cb",
   "metadata": {},
   "source": [
    "### Max/Min Number of Cuisines per Restaurant & Most Served Cuisine Per City\n",
    "##### Part 1: Max & Min Number of Cuisines Per Restaurant"
   ]
  },
  {
   "cell_type": "code",
   "execution_count": 100,
   "id": "e3d8de2f-812f-4af3-8e73-581f6675e559",
   "metadata": {},
   "outputs": [
    {
     "name": "stdout",
     "output_type": "stream",
     "text": [
      "Minimum number of cuisines served by a restaurant: 1\n",
      "Maximum number of cuisines served by a restaurant: 8\n"
     ]
    }
   ],
   "source": [
    "# Drop nulls (should already be clean but, just being safe)\n",
    "cuisine_counts_per_restaurant = data['Cuisines'].dropna().str.split(', ').apply(len)\n",
    "\n",
    "# Get min and max number of cuisines served\n",
    "min_cuisines = cuisine_counts_per_restaurant.min()\n",
    "max_cuisines = cuisine_counts_per_restaurant.max()\n",
    "\n",
    "print(f\"Minimum number of cuisines served by a restaurant: {min_cuisines}\")\n",
    "print(f\"Maximum number of cuisines served by a restaurant: {max_cuisines}\")\n"
   ]
  },
  {
   "cell_type": "markdown",
   "id": "767c65b7-90d9-4d75-b133-f8116a2b2a67",
   "metadata": {},
   "source": [
    "##### Observation:\n",
    "- Most restaurants offer a <b>small number of cuisines</b>, while a few provide a <b>diverse menu with up to 8 cuisine types</b>.\n",
    "\n",
    "- This variation highlights differences in restaurant offerings — from focused, niche kitchens to broad multi-cuisine establishments — which could be relevant in understanding customer preferences, ratings, or operational complexity in <b>further analysis </b>:\n",
    "\n",
    "    - Analyze whether restaurants offering <b>more cuisines receive higher or lower average ratings</b>. This can reveal if customers prefer variety or perceive it as lower quality.\n",
    "\n",
    "    - Explore if <b>multi-cuisine restaurants tend to receive more votes</b>, indicating greater customer engagement or popularity.\n",
    " \n",
    "    - Investigate whether <b>delivery-enabled restaurants</b> offer more or fewer cuisines — to understand complexity in delivery logistics.\n",
    " \n",
    "    - Compare <b>price range vs. number of cuisines</b> to see if multi-cuisine restaurants are positioned as more premium."
   ]
  },
  {
   "cell_type": "markdown",
   "id": "4b05e2f2-c5d5-46fe-8968-2a879fe19bfe",
   "metadata": {},
   "source": [
    "#####  Part 2: Most Common Cuisine Per City"
   ]
  },
  {
   "cell_type": "code",
   "execution_count": 102,
   "id": "b2cc3ff2-ff79-46fe-ba6b-83567d998b70",
   "metadata": {},
   "outputs": [
    {
     "data": {
      "text/html": [
       "<div>\n",
       "<style scoped>\n",
       "    .dataframe tbody tr th:only-of-type {\n",
       "        vertical-align: middle;\n",
       "    }\n",
       "\n",
       "    .dataframe tbody tr th {\n",
       "        vertical-align: top;\n",
       "    }\n",
       "\n",
       "    .dataframe thead th {\n",
       "        text-align: right;\n",
       "    }\n",
       "</style>\n",
       "<table border=\"1\" class=\"dataframe\">\n",
       "  <thead>\n",
       "    <tr style=\"text-align: right;\">\n",
       "      <th></th>\n",
       "      <th>City</th>\n",
       "      <th>Cuisines</th>\n",
       "      <th>Count</th>\n",
       "    </tr>\n",
       "  </thead>\n",
       "  <tbody>\n",
       "    <tr>\n",
       "      <th>0</th>\n",
       "      <td>Abu Dhabi</td>\n",
       "      <td>Indian</td>\n",
       "      <td>7</td>\n",
       "    </tr>\n",
       "    <tr>\n",
       "      <th>1</th>\n",
       "      <td>Agra</td>\n",
       "      <td>North Indian</td>\n",
       "      <td>15</td>\n",
       "    </tr>\n",
       "    <tr>\n",
       "      <th>2</th>\n",
       "      <td>Ahmedabad</td>\n",
       "      <td>Continental</td>\n",
       "      <td>11</td>\n",
       "    </tr>\n",
       "    <tr>\n",
       "      <th>3</th>\n",
       "      <td>Albany</td>\n",
       "      <td>American</td>\n",
       "      <td>4</td>\n",
       "    </tr>\n",
       "    <tr>\n",
       "      <th>4</th>\n",
       "      <td>Allahabad</td>\n",
       "      <td>North Indian</td>\n",
       "      <td>12</td>\n",
       "    </tr>\n",
       "    <tr>\n",
       "      <th>5</th>\n",
       "      <td>Amritsar</td>\n",
       "      <td>North Indian</td>\n",
       "      <td>15</td>\n",
       "    </tr>\n",
       "    <tr>\n",
       "      <th>6</th>\n",
       "      <td>Ankara</td>\n",
       "      <td>Kebab</td>\n",
       "      <td>10</td>\n",
       "    </tr>\n",
       "    <tr>\n",
       "      <th>7</th>\n",
       "      <td>Armidale</td>\n",
       "      <td>Bar Food</td>\n",
       "      <td>1</td>\n",
       "    </tr>\n",
       "    <tr>\n",
       "      <th>8</th>\n",
       "      <td>Athens</td>\n",
       "      <td>American</td>\n",
       "      <td>5</td>\n",
       "    </tr>\n",
       "    <tr>\n",
       "      <th>9</th>\n",
       "      <td>Auckland</td>\n",
       "      <td>Cafe</td>\n",
       "      <td>5</td>\n",
       "    </tr>\n",
       "  </tbody>\n",
       "</table>\n",
       "</div>"
      ],
      "text/plain": [
       "        City      Cuisines  Count\n",
       "0  Abu Dhabi        Indian      7\n",
       "1       Agra  North Indian     15\n",
       "2  Ahmedabad   Continental     11\n",
       "3     Albany      American      4\n",
       "4  Allahabad  North Indian     12\n",
       "5   Amritsar  North Indian     15\n",
       "6     Ankara         Kebab     10\n",
       "7   Armidale      Bar Food      1\n",
       "8     Athens      American      5\n",
       "9   Auckland          Cafe      5"
      ]
     },
     "execution_count": 102,
     "metadata": {},
     "output_type": "execute_result"
    }
   ],
   "source": [
    "# Merge exploded cuisines with city info\n",
    "cuisine_city_df = data[['City', 'Cuisines']].dropna()\n",
    "cuisine_city_df = cuisine_city_df.assign(Cuisines=cuisine_city_df['Cuisines'].str.split(', ')).explode('Cuisines')\n",
    "\n",
    "# Group by city and cuisine, count frequency\n",
    "top_cuisine_per_city = (\n",
    "    cuisine_city_df.groupby(['City', 'Cuisines'])\n",
    "    .size()\n",
    "    .reset_index(name='Count')\n",
    "    .sort_values(['City', 'Count'], ascending=[True, False])\n",
    "    .drop_duplicates(subset='City', keep='first')\n",
    "    .reset_index(drop=True)\n",
    ")\n",
    "\n",
    "# Display a few examples\n",
    "top_cuisine_per_city.head(10)\n"
   ]
  },
  {
   "cell_type": "markdown",
   "id": "cb5e8cf7-f28a-4a30-a91d-3e7a4f2b2b5b",
   "metadata": {},
   "source": [
    "##### Observation:\n",
    "- For each city, the most frequently served cuisine was identified to understand local food preferences.\n",
    "\n",
    "- Results show regional trends — e.g., <b>North Indian</b> is dominant in cities like <b>Agra, Amritsar, and Allahabad</b>, while <b>American</b> cuisine leads in <b>Albany and Athens</b>.\n",
    "\n",
    "- This insight can help the platform tailor city-specific recommendations, promotions, or featured listings based on cuisine popularity."
   ]
  },
  {
   "cell_type": "markdown",
   "id": "04a214df-b216-4db5-9617-89cca5339993",
   "metadata": {},
   "source": [
    "###  Distribution of Cost Across Restaurants\n",
    "- Understand how the `Average Cost for two` is distributed among restaurants — whether it's skewed, uniform, or has outliers — <b>to assess affordability trends and pricing patterns.</b>"
   ]
  },
  {
   "cell_type": "code",
   "execution_count": 104,
   "id": "9c77bdd2-37e0-4752-81c6-3a1e2ddef36d",
   "metadata": {},
   "outputs": [
    {
     "name": "stdout",
     "output_type": "stream",
     "text": [
      "count      9541.000000\n",
      "mean       1200.368096\n",
      "std       16129.588655\n",
      "min           0.000000\n",
      "25%         250.000000\n",
      "50%         400.000000\n",
      "75%         700.000000\n",
      "max      800000.000000\n",
      "Name: Average Cost for two, dtype: float64\n"
     ]
    }
   ],
   "source": [
    "# basic Summary statistis\n",
    "\n",
    "print(data['Average Cost for two'].describe())\n"
   ]
  },
  {
   "cell_type": "markdown",
   "id": "0c2c0875-ae54-4155-a67b-bb1fb4908cca",
   "metadata": {},
   "source": [
    "##### Observation: \n",
    "- This metric was already explored during the initial inspection of numerical columns.\n",
    "- The `Average Cost for two` ranges from <b>₹0 to ₹800,000</b>, with a <b>mean of ₹1,200</b> and a <b>median of ₹400</b>, indicating a <b>right-skewed distribution</b>.\n",
    "- While 75% of restaurants fall under ₹700, the extreme upper values cause a sharp increase in the average and standard deviation (₹16,129), clearly suggesting the presence of <b>strong outliers</b>.\n",
    "- These outliers could represent <b>luxury fine-dining restaurants</b> or possible <b>data entry errors</b> (e.g., added zeros), and although they distort statistical summaries, they may still carry insight value.\n",
    "- Based on the nature of this project, these values are <b>flagged but not removed</b>. At this stage of EDA, the goal is to observe — not clean — and such extremes may highlight niche market segments or exceptional cases worth attention.\n",
    "- For more accurate interpretation, the platform may consider using <b>median-based insights</b> or visualizing cost distribution on a <b>logarithmic scale</b> in dashboards or reports."
   ]
  },
  {
   "cell_type": "markdown",
   "id": "1007f561-b9e8-406c-9bf2-5f5c81b25223",
   "metadata": {},
   "source": [
    "##### Regular Histogram"
   ]
  },
  {
   "cell_type": "code",
   "execution_count": 106,
   "id": "dbe841cc-a400-4f08-aac7-79b61b67e622",
   "metadata": {},
   "outputs": [
    {
     "data": {
      "image/png": "[encoded data removed]",
      "text/plain": [
       "<Figure size 800x500 with 1 Axes>"
      ]
     },
     "metadata": {},
     "output_type": "display_data"
    }
   ],
   "source": [
    "import matplotlib.pyplot as plt\n",
    "\n",
    "plt.figure(figsize=(8,5))\n",
    "plt.hist(data['Average Cost for two'], bins=50, color='skyblue', edgecolor='black')\n",
    "plt.title('Distribution of Average Cost for Two')\n",
    "plt.xlabel('Cost for Two')\n",
    "plt.ylabel('Number of Restaurants')\n",
    "plt.grid(axis='y', linestyle='--', alpha=0.6)\n",
    "plt.tight_layout()\n",
    "plt.show()\n"
   ]
  },
  {
   "cell_type": "markdown",
   "id": "d8613199-2686-4b0f-ab29-533a39ac1bf1",
   "metadata": {},
   "source": [
    "##### Observation:\n",
    "- The regular histogram shows that the <b>majority of restaurants cluster around the lower cost range</b>.\n",
    "\n",
    "- However, the distribution appears right-skewed, and higher-cost restaurants are not clearly visible due to compression at the upper end."
   ]
  },
  {
   "cell_type": "markdown",
   "id": "28f3d553-f0c5-4bdf-b4f6-a5d9462fb415",
   "metadata": {},
   "source": [
    "##### Histogram with Log Scale on Y-Axis"
   ]
  },
  {
   "cell_type": "code",
   "execution_count": 108,
   "id": "43491357-e79e-4a85-a02f-68933d24259a",
   "metadata": {},
   "outputs": [
    {
     "data": {
      "image/png": "[encoded data removed]",
      "text/plain": [
       "<Figure size 800x500 with 1 Axes>"
      ]
     },
     "metadata": {},
     "output_type": "display_data"
    }
   ],
   "source": [
    "plt.figure(figsize=(8,5))\n",
    "plt.hist(data['Average Cost for two'], bins=50, color='salmon', edgecolor='black')\n",
    "plt.yscale('log')  # Compresses the y-axis to make long tails more visible\n",
    "plt.title('Distribution of Average Cost for Two (Log Scale)')\n",
    "plt.xlabel('Cost for Two')\n",
    "plt.ylabel('Number of Restaurants (log scale)')\n",
    "plt.grid(axis='y', linestyle='--', alpha=0.6)\n",
    "plt.tight_layout()\n",
    "plt.show()\n"
   ]
  },
  {
   "cell_type": "markdown",
   "id": "1f0f11a8-2680-45ad-8f93-34ed016218e8",
   "metadata": {},
   "source": [
    "##### Observation:\n",
    "- The log-scale histogram reveals the presence of <b>extreme outliers</b>, with a long tail extending up to <b>800,000</b>.\n",
    "\n",
    "- This view helps highlight the skewness and cost variability that are hidden in the regular histogram, supporting a more accurate understanding of the overall pricing landscape.\n"
   ]
  },
  {
   "cell_type": "markdown",
   "id": "17fda14c-79ed-494b-a782-0ddfdbe323f2",
   "metadata": {},
   "source": [
    "### Rating Distribution & Influencing Factors\n",
    "- Understand how ratings are distributed and what factors might influence them — such as: <b> `Cost`,`Number of cuisines`, `Online delivery`, `Table booking`,`Votes`, etc.</b>\n",
    "- This is where we start looking at relationships between ratings and other variables — not just single-column stats.\n",
    "\n",
    "#### Part 1: Understand Rating Distribution\n",
    "##### Step 1.1: Check Unique Values & Frequency"
   ]
  },
  {
   "cell_type": "code",
   "execution_count": 110,
   "id": "bd00fb7a-800e-4c77-acbc-84a39630d491",
   "metadata": {},
   "outputs": [
    {
     "name": "stdout",
     "output_type": "stream",
     "text": [
      "Rating distribution:\n",
      " Aggregate rating\n",
      "0.0    2148\n",
      "1.8       1\n",
      "1.9       2\n",
      "2.0       7\n",
      "2.1      15\n",
      "2.2      27\n",
      "2.3      47\n",
      "2.4      87\n",
      "2.5     110\n",
      "2.6     191\n",
      "2.7     250\n",
      "2.8     315\n",
      "2.9     381\n",
      "3.0     468\n",
      "3.1     519\n",
      "3.2     522\n",
      "3.3     483\n",
      "3.4     495\n",
      "3.5     480\n",
      "3.6     458\n",
      "3.7     427\n",
      "3.8     399\n",
      "3.9     332\n",
      "4.0     266\n",
      "4.1     273\n",
      "4.2     221\n",
      "4.3     174\n",
      "4.4     143\n",
      "4.5      95\n",
      "4.6      78\n",
      "4.7      41\n",
      "4.8      25\n",
      "4.9      61\n",
      "Name: count, dtype: int64\n"
     ]
    }
   ],
   "source": [
    "# Frequency of each unique rating\n",
    "rating_counts = data['Aggregate rating'].value_counts().sort_index()\n",
    "print(\"Rating distribution:\\n\", rating_counts)\n"
   ]
  },
  {
   "cell_type": "markdown",
   "id": "ffed578f-a04f-4de5-9e3b-192baa602255",
   "metadata": {},
   "source": [
    "#####  Step 1.2: Visualize Rating Distribution"
   ]
  },
  {
   "cell_type": "code",
   "execution_count": 112,
   "id": "87c7f621-9f0e-46c4-a8e2-af8ebf8c63d6",
   "metadata": {},
   "outputs": [
    {
     "data": {
      "image/png": "[encoded data removed]",
      "text/plain": [
       "<Figure size 800x500 with 1 Axes>"
      ]
     },
     "metadata": {},
     "output_type": "display_data"
    }
   ],
   "source": [
    "import matplotlib.pyplot as plt\n",
    "\n",
    "plt.figure(figsize=(8,5))\n",
    "rating_counts.plot(kind='bar', color='plum', edgecolor='black')\n",
    "plt.title('Distribution of Aggregate Ratings')\n",
    "plt.xlabel('Rating')\n",
    "plt.ylabel('Number of Restaurants')\n",
    "plt.xticks(rotation=0)\n",
    "plt.grid(axis='y', linestyle='--', alpha=0.6)\n",
    "plt.tight_layout()\n",
    "plt.show()\n"
   ]
  },
  {
   "cell_type": "markdown",
   "id": "1ddf3bd7-3bf2-455d-bc34-8485b5f647ba",
   "metadata": {},
   "source": [
    "##### Observation:\n",
    "- Ratings are discrete values (e.g., 2.5, 3.1, 3.8...)\n",
    "\n",
    "- <b>Most restaurants fall in the 3.0 to 4.0 range </b>\n",
    "\n",
    "- A large number of restaurants are at 0.0 rating, meaning “Not rated”\n",
    "\n",
    "- Very few restaurants reach above 4.5, suggesting that near-perfect ratings are rare and likely reserved for highly exceptional establishments."
   ]
  },
  {
   "cell_type": "markdown",
   "id": "8d5b31ae-40ef-4400-a847-353f35784caf",
   "metadata": {},
   "source": [
    "#### Part 2: Explore Factors That May Influence Ratings\n",
    "##### 2.1: Rating vs. Votes (scatterplot)"
   ]
  },
  {
   "cell_type": "code",
   "execution_count": 114,
   "id": "d5613918-4622-428d-84cb-1a42d03283ff",
   "metadata": {},
   "outputs": [
    {
     "data": {
      "image/png": "[encoded data removed]",
      "text/plain": [
       "<Figure size 700x500 with 1 Axes>"
      ]
     },
     "metadata": {},
     "output_type": "display_data"
    }
   ],
   "source": [
    "plt.figure(figsize=(7,5))\n",
    "plt.scatter(data['Votes'], data['Aggregate rating'], alpha=0.3, color='teal')\n",
    "plt.title('Rating vs. Votes')\n",
    "plt.xlabel('Votes')\n",
    "plt.ylabel('Aggregate Rating')\n",
    "plt.grid(True, linestyle='--', alpha=0.5)\n",
    "plt.tight_layout()\n",
    "plt.show()\n"
   ]
  },
  {
   "cell_type": "markdown",
   "id": "311197e3-852d-4ef4-b90f-db83073f51ae",
   "metadata": {},
   "source": [
    "##### Observation: \n",
    "- There is a <b>positive relationship</b> between the number of votes and aggregate rating — restaurants with <b>higher engagement</b> tend to maintain better ratings.\n",
    "\n",
    "- However, most restaurants have <b>low vote counts</b>, suggesting limited user feedback for a majority of entries.\n",
    "\n",
    "- A few high-vote, high-rating outliers are visible, likely representing <b>top-performing or franchise restaurants</b> with strong customer bases."
   ]
  },
  {
   "cell_type": "markdown",
   "id": "8359d438-54b9-483d-b58b-8311cb655018",
   "metadata": {},
   "source": [
    "#####  2.2: Rating vs. Cost (scatterplot)"
   ]
  },
  {
   "cell_type": "code",
   "execution_count": 116,
   "id": "3b050b63-17d0-4fe9-a9fc-8b3684845aca",
   "metadata": {},
   "outputs": [
    {
     "data": {
      "image/png": "[encoded data removed]",
      "text/plain": [
       "<Figure size 700x500 with 1 Axes>"
      ]
     },
     "metadata": {},
     "output_type": "display_data"
    }
   ],
   "source": [
    "plt.figure(figsize=(7,5))\n",
    "plt.scatter(data['Average Cost for two'], data['Aggregate rating'], alpha=0.3, color='darkorange')\n",
    "plt.title('Rating vs. Average Cost for Two')\n",
    "plt.xlabel('Cost for Two')\n",
    "plt.ylabel('Aggregate Rating')\n",
    "plt.grid(True, linestyle='--', alpha=0.5)\n",
    "plt.tight_layout()\n",
    "plt.show()\n"
   ]
  },
  {
   "cell_type": "markdown",
   "id": "6d220afb-6b02-4c49-8223-f2db7dd12018",
   "metadata": {},
   "source": [
    "##### Observation:\n",
    "- The relationship between rating and average cost is <b>weak and scattered</b>, indicating that <b>pricing is not a strong predictor of customer satisfaction</b>.\n",
    "\n",
    "- Well-rated restaurants exist at both low and high price points, suggesting that factors like <b>service quality, food variety, or delivery options</b> may play a larger role in influencing ratings.\n",
    "\n",
    "- The result supports a platform strategy that considers <b>multiple variables</b> beyond price alone for recommendations."
   ]
  },
  {
   "cell_type": "markdown",
   "id": "a897408c-0e9c-45ec-8a07-28d92276a0e6",
   "metadata": {},
   "source": [
    "##### 2.3 Rating vs. Online Delivery"
   ]
  },
  {
   "cell_type": "code",
   "execution_count": 118,
   "id": "147ec714-f289-4ca4-8304-1a1efef91228",
   "metadata": {},
   "outputs": [
    {
     "name": "stdout",
     "output_type": "stream",
     "text": [
      "  Has Online delivery  Aggregate rating\n",
      "0                  No              2.46\n",
      "1                 Yes              3.25\n"
     ]
    }
   ],
   "source": [
    "# Average rating grouped by delivery option\n",
    "rating_by_delivery = data.groupby('Has Online delivery')['Aggregate rating'].mean().reset_index()\n",
    "rating_by_delivery['Aggregate rating'] = rating_by_delivery['Aggregate rating'].round(2)\n",
    "print(rating_by_delivery)\n"
   ]
  },
  {
   "cell_type": "markdown",
   "id": "da3b1028-f959-497b-9696-ea475f8789af",
   "metadata": {},
   "source": [
    "##### Observation:\n",
    "- Restaurants that offer <b>online delivery</b> tend to have <b>slightly higher average ratings</b> than those that do not.\n",
    "\n",
    "- This suggests that the <b>convenience of delivery</b> may contribute positively to customer satisfaction and perceived value."
   ]
  },
  {
   "cell_type": "markdown",
   "id": "827946e6-cc26-4f2c-bcc7-79c42f923aec",
   "metadata": {},
   "source": [
    "##### 2.4 Rating vs. Table Booking"
   ]
  },
  {
   "cell_type": "code",
   "execution_count": 120,
   "id": "84eb495b-8afb-41de-9604-be9960eeba77",
   "metadata": {},
   "outputs": [
    {
     "name": "stdout",
     "output_type": "stream",
     "text": [
      "  Has Table booking  Aggregate rating\n",
      "0                No              2.56\n",
      "1               Yes              3.44\n"
     ]
    }
   ],
   "source": [
    "# Average rating grouped by table booking option\n",
    "rating_by_table = data.groupby('Has Table booking')['Aggregate rating'].mean().reset_index()\n",
    "rating_by_table['Aggregate rating'] = rating_by_table['Aggregate rating'].round(2)\n",
    "print(rating_by_table)\n"
   ]
  },
  {
   "cell_type": "markdown",
   "id": "e0b36eb6-a95f-4830-8615-3719e726d7ba",
   "metadata": {},
   "source": [
    "##### Observation:\n",
    "- Restaurants with <b>table booking options</b> show a <b>notably higher average rating</b> compared to those without.\n",
    "\n",
    "- This may reflect better service quality or more premium dining experiences, which often correlate with higher ratings."
   ]
  },
  {
   "cell_type": "markdown",
   "id": "652e7d85-dcd7-497c-a34b-9e67ec86c6a7",
   "metadata": {},
   "source": [
    "##### 2.5 Rating vs. Number of Cuisines"
   ]
  },
  {
   "cell_type": "code",
   "execution_count": 122,
   "id": "1a187565-4ef8-409d-b8f6-8a233c40badc",
   "metadata": {},
   "outputs": [
    {
     "name": "stdout",
     "output_type": "stream",
     "text": [
      "   Cuisine Count  Aggregate rating\n",
      "0              1              2.23\n",
      "1              2              2.69\n",
      "2              3              3.04\n",
      "3              4              3.41\n",
      "4              5              3.51\n",
      "5              6              3.67\n",
      "6              7              3.67\n",
      "7              8              3.42\n"
     ]
    }
   ],
   "source": [
    "# Number of cuisines per restaurant\n",
    "cuisine_count = data['Cuisines'].dropna().str.split(', ').apply(len)\n",
    "\n",
    "# Combine cuisine count with ratings\n",
    "rating_vs_cuisine_count = data.copy()\n",
    "rating_vs_cuisine_count['Cuisine Count'] = cuisine_count\n",
    "\n",
    "# Group and get average rating per cuisine count\n",
    "rating_by_cuisine_count = (\n",
    "    rating_vs_cuisine_count.groupby('Cuisine Count')['Aggregate rating']\n",
    "    .mean()\n",
    "    .reset_index()\n",
    "    .round(2)\n",
    ")\n",
    "print(rating_by_cuisine_count)\n",
    "\n"
   ]
  },
  {
   "cell_type": "markdown",
   "id": "c922eaef-9a5e-4505-b622-88df83a825ff",
   "metadata": {},
   "source": [
    "##### Observation:\n",
    "- The average rating tends to <b>increase slightly with the number of cuisines offered</b>, peaking around a moderate count, and then plateaus or slightly dips.\n",
    "\n",
    "-  This indicates that offering <b>2–4 well-curated cuisines</b> may strike a balance between variety and quality, beyond which the complexity may not add value to customers."
   ]
  },
  {
   "cell_type": "markdown",
   "id": "952f124c-66aa-4755-8e83-400cd4298ff7",
   "metadata": {},
   "source": [
    "### Rating Distribution & Influencing Factors\n",
    "- Ratings in the dataset follow a <b>discrete and right-skewed pattern</b>, with most restaurants rated between <b>3.0 and 4.0</b>, and a notable portion marked as <b>0.0 (unrated)</b>.\n",
    "\n",
    "- Visual analysis shows that <b>higher votes</b tend to correspond with <b>higher ratings</b>, suggesting strong user engagement leads to better perceived quality.\n",
    "\n",
    "- Restaurants that offer <b>table booking</b> or <b>online delivery</b> tend to have slightly higher average ratings, possibly due to enhanced convenience or service.\n",
    "\n",
    "- The <b>number of cuisines</b> offered shows a mild positive relationship with ratings — with restaurants offering <b>2 to 4 cuisines</b> appearing to perform best.\n",
    "\n",
    "- On the other hand, <b>average cost</b> does not show a clear correlation with ratings, suggesting that customers value factors beyond pricing.\n",
    "\n"
   ]
  },
  {
   "cell_type": "code",
   "execution_count": 130,
   "id": "0d4af085-106a-4101-ac69-dc2379a26137",
   "metadata": {},
   "outputs": [
    {
     "name": "stdout",
     "output_type": "stream",
     "text": [
      "First 5 rows:\n",
      "   Restaurant ID              Restaurant Name  Country Code     City  \\\n",
      "0        7402935                         Skye            94  Jakarta   \n",
      "1        7410290     Satoo - Hotel Shangri-La            94  Jakarta   \n",
      "2        7420899                   Sushi Masa            94  Jakarta   \n",
      "3        7421967               3 Wise Monkeys            94  Jakarta   \n",
      "4        7422489  Avec Moi Restaurant and Bar            94  Jakarta   \n",
      "\n",
      "                                             Address  \\\n",
      "0  Menara BCA, Lantai 56, Jl. MH. Thamrin, Thamri...   \n",
      "1               Hotel Shangri-La, Jl. Jend. Sudirman   \n",
      "2                   Jl. Tuna Raya No. 5, Penjaringan   \n",
      "3                Jl. Suryo No. 26, Senopati, Jakarta   \n",
      "4  Gedung PIC, Jl. Teluk Betung 43, Thamrin, Jakarta   \n",
      "\n",
      "                        Locality                        Locality Verbose  \\\n",
      "0  Grand Indonesia Mall, Thamrin  Grand Indonesia Mall, Thamrin, Jakarta   \n",
      "1     Hotel Shangri-La, Sudirman     Hotel Shangri-La, Sudirman, Jakarta   \n",
      "2                    Penjaringan                    Penjaringan, Jakarta   \n",
      "3                       Senopati                       Senopati, Jakarta   \n",
      "4                        Thamrin                        Thamrin, Jakarta   \n",
      "\n",
      "    Longitude  Latitude                    Cuisines  Average Cost for two  \\\n",
      "0  106.821999 -6.196778        Italian, Continental                800000   \n",
      "1  106.818961 -6.203292  Asian, Indonesian, Western                800000   \n",
      "2  106.800144 -6.101298             Sushi, Japanese                500000   \n",
      "3  106.813400 -6.235241                    Japanese                450000   \n",
      "4  106.821023 -6.196270             French, Western                350000   \n",
      "\n",
      "                 Currency Has Table booking Has Online delivery  Price range  \\\n",
      "0  Indonesian Rupiah(IDR)                No                  No            3   \n",
      "1  Indonesian Rupiah(IDR)                No                  No            3   \n",
      "2  Indonesian Rupiah(IDR)                No                  No            3   \n",
      "3  Indonesian Rupiah(IDR)                No                  No            3   \n",
      "4  Indonesian Rupiah(IDR)                No                  No            3   \n",
      "\n",
      "   Aggregate rating Rating color Rating text  Votes    Country  \n",
      "0               4.1        Green   Very Good   1498  Indonesia  \n",
      "1               4.6   Dark Green   Excellent    873  Indonesia  \n",
      "2               4.9   Dark Green   Excellent    605  Indonesia  \n",
      "3               4.2        Green   Very Good    395  Indonesia  \n",
      "4               4.3        Green   Very Good    243  Indonesia  \n",
      "\n",
      "Sample of 5 unique rows:\n",
      "      Restaurant ID    Restaurant Name  Country Code       City  \\\n",
      "3154         305386       Kebab Xpress             1  New Delhi   \n",
      "2808         900282         Thakkaaram             1      Kochi   \n",
      "1560       18322518  Nazeer Delicacies             1  New Delhi   \n",
      "3966         312492   Sandwich Factory             1  New Delhi   \n",
      "4954         308279              Giani             1  New Delhi   \n",
      "\n",
      "                                                Address  \\\n",
      "3154  Shop G-2 & G-8, Ground Floor, Plot 10, V3S Mal...   \n",
      "2808     Opposite Gold Souk Grande Mall, Vyttila, Kochi   \n",
      "1560  45-46, 1st Floor, The India Mall, Community Ce...   \n",
      "3966      25A, Pocket B, Mayur Vihar Phase 2, New Delhi   \n",
      "4954  MCD Booth, Near Mother Dairy, Defence Colony M...   \n",
      "\n",
      "                                Locality  \\\n",
      "3154               V3S Mall, Laxmi Nagar   \n",
      "2808                             Vyttila   \n",
      "1560  The India Mall, New Friends Colony   \n",
      "3966                 Mayur Vihar Phase 2   \n",
      "4954                      Defence Colony   \n",
      "\n",
      "                                   Locality Verbose  Longitude   Latitude  \\\n",
      "3154               V3S Mall, Laxmi Nagar, New Delhi  77.286285  28.636865   \n",
      "2808                                 Vyttila, Kochi  76.317361   9.979186   \n",
      "1560  The India Mall, New Friends Colony, New Delhi  77.268945  28.561611   \n",
      "3966                 Mayur Vihar Phase 2, New Delhi  77.301122  28.619279   \n",
      "4954                      Defence Colony, New Delhi  77.229873  28.574416   \n",
      "\n",
      "                   Cuisines  Average Cost for two            Currency  \\\n",
      "3154  North Indian, Mughlai                   600  Indian Rupees(Rs.)   \n",
      "2808   Kerala, South Indian                   600  Indian Rupees(Rs.)   \n",
      "1560  North Indian, Mughlai                   900  Indian Rupees(Rs.)   \n",
      "3966                   Cafe                   500  Indian Rupees(Rs.)   \n",
      "4954    Ice Cream, Desserts                   400  Indian Rupees(Rs.)   \n",
      "\n",
      "     Has Table booking Has Online delivery  Price range  Aggregate rating  \\\n",
      "3154                No                 Yes            2               2.4   \n",
      "2808                No                  No            2               3.6   \n",
      "1560               Yes                  No            2               3.3   \n",
      "3966                No                 Yes            2               3.9   \n",
      "4954                No                 Yes            1               3.3   \n",
      "\n",
      "     Rating color Rating text  Votes Country  \n",
      "3154          Red        Poor    117   India  \n",
      "2808       Yellow        Good    361   India  \n",
      "1560       Orange     Average     21   India  \n",
      "3966       Yellow        Good    254   India  \n",
      "4954       Orange     Average     29   India  \n"
     ]
    }
   ],
   "source": [
    "#re-checking dataset before exporting the cleaned, transformed dataset into a CSV file for Tableau Viz\n",
    "# Show first 5 rows\n",
    "print(\"First 5 rows:\")\n",
    "print(merged_data.head())\n",
    "\n",
    "# Show 5 randomly selected unique rows\n",
    "print(\"\\nSample of 5 unique rows:\")\n",
    "print(merged_data.drop_duplicates().sample(5))\n",
    "\n"
   ]
  },
  {
   "cell_type": "code",
   "execution_count": 1,
   "id": "27574c35-a75c-49f1-b1ee-4666dd9c1ebc",
   "metadata": {},
   "outputs": [
    {
     "name": "stdout",
     "output_type": "stream",
     "text": [
      "🧩 Column Names:\n"
     ]
    },
    {
     "ename": "NameError",
     "evalue": "name 'merged_data' is not defined",
     "output_type": "error",
     "traceback": [
      "\u001b[1;31m---------------------------------------------------------------------------\u001b[0m",
      "\u001b[1;31mNameError\u001b[0m                                 Traceback (most recent call last)",
      "Cell \u001b[1;32mIn[1], line 3\u001b[0m\n\u001b[0;32m      1\u001b[0m \u001b[38;5;66;03m# Print column names\u001b[39;00m\n\u001b[0;32m      2\u001b[0m \u001b[38;5;28mprint\u001b[39m(\u001b[38;5;124m\"\u001b[39m\u001b[38;5;124m🧩 Column Names:\u001b[39m\u001b[38;5;124m\"\u001b[39m)\n\u001b[1;32m----> 3\u001b[0m \u001b[38;5;28mprint\u001b[39m(merged_data\u001b[38;5;241m.\u001b[39mcolumns\u001b[38;5;241m.\u001b[39mtolist())\n\u001b[0;32m      5\u001b[0m \u001b[38;5;66;03m# Print shape (rows, columns)\u001b[39;00m\n\u001b[0;32m      6\u001b[0m \u001b[38;5;28mprint\u001b[39m(\u001b[38;5;124m\"\u001b[39m\u001b[38;5;130;01m\\n\u001b[39;00m\u001b[38;5;124m🔢 Shape of the DataFrame:\u001b[39m\u001b[38;5;124m\"\u001b[39m)\n",
      "\u001b[1;31mNameError\u001b[0m: name 'merged_data' is not defined"
     ]
    }
   ],
   "source": [
    "# Print column names\n",
    "print(\"🧩 Column Names:\")\n",
    "print(merged_data.columns.tolist())\n",
    "\n",
    "# Print shape (rows, columns)\n",
    "print(\"\\n🔢 Shape of the DataFrame:\")\n",
    "print(merged_data.shape)\n",
    "\n",
    "# Check for missing values\n",
    "print(\"\\n❓ Missing Values per Column:\")\n",
    "print(merged_data.isnull().sum())\n",
    "\n",
    "# Check for duplicate rows\n",
    "print(\"\\n📛 Number of Duplicate Rows:\")\n",
    "print(merged_data.duplicated().sum())\n"
   ]
  },
  {
   "cell_type": "code",
   "execution_count": 128,
   "id": "01ff5dbb-a569-4d76-bbb6-c1e32588a031",
   "metadata": {},
   "outputs": [],
   "source": [
    "merged_data.to_csv(\"cleaned_restaurant_data.csv\", index=False)\n",
    "#exported the cleanded dataset\n"
   ]
  },
  {
   "cell_type": "markdown",
   "id": "c33d6de7-b2eb-4ad1-9f93-fbd793a75876",
   "metadata": {},
   "source": [
    "###  Issue: Currency Inconsistency in \"Average Cost for Two\"\n",
    "\n",
    "During the project, it was noticed that the \"Average Cost for Two\" values were recorded in local currencies, which made cross-country comparisons misleading (e.g., 800,000 in Indonesia is approximately $50 USD). Two potential solutions were considered: (1) converting all values to USD in Python, or (2) displaying the cost along with the respective currency symbols. Solution (1) was chosen to ensure better clarity and consistency across the dashboard.\n"
   ]
  },
  {
   "cell_type": "code",
   "execution_count": 3,
   "id": "c69b24ff-361d-4b90-9a7f-22baa67f05b6",
   "metadata": {},
   "outputs": [
    {
     "data": {
      "text/html": [
       "<div>\n",
       "<style scoped>\n",
       "    .dataframe tbody tr th:only-of-type {\n",
       "        vertical-align: middle;\n",
       "    }\n",
       "\n",
       "    .dataframe tbody tr th {\n",
       "        vertical-align: top;\n",
       "    }\n",
       "\n",
       "    .dataframe thead th {\n",
       "        text-align: right;\n",
       "    }\n",
       "</style>\n",
       "<table border=\"1\" class=\"dataframe\">\n",
       "  <thead>\n",
       "    <tr style=\"text-align: right;\">\n",
       "      <th></th>\n",
       "      <th>Restaurant ID</th>\n",
       "      <th>Restaurant Name</th>\n",
       "      <th>Country Code</th>\n",
       "      <th>City</th>\n",
       "      <th>Address</th>\n",
       "      <th>Locality</th>\n",
       "      <th>Locality Verbose</th>\n",
       "      <th>Longitude</th>\n",
       "      <th>Latitude</th>\n",
       "      <th>Cuisines</th>\n",
       "      <th>Average Cost for two</th>\n",
       "      <th>Currency</th>\n",
       "      <th>Has Table booking</th>\n",
       "      <th>Has Online delivery</th>\n",
       "      <th>Price range</th>\n",
       "      <th>Aggregate rating</th>\n",
       "      <th>Rating color</th>\n",
       "      <th>Rating text</th>\n",
       "      <th>Votes</th>\n",
       "      <th>Country</th>\n",
       "    </tr>\n",
       "  </thead>\n",
       "  <tbody>\n",
       "    <tr>\n",
       "      <th>0</th>\n",
       "      <td>7402935</td>\n",
       "      <td>Skye</td>\n",
       "      <td>94</td>\n",
       "      <td>Jakarta</td>\n",
       "      <td>Menara BCA, Lantai 56, Jl. MH. Thamrin, Thamri...</td>\n",
       "      <td>Grand Indonesia Mall, Thamrin</td>\n",
       "      <td>Grand Indonesia Mall, Thamrin, Jakarta</td>\n",
       "      <td>106.821999</td>\n",
       "      <td>-6.196778</td>\n",
       "      <td>Italian, Continental</td>\n",
       "      <td>800000</td>\n",
       "      <td>Indonesian Rupiah(IDR)</td>\n",
       "      <td>No</td>\n",
       "      <td>No</td>\n",
       "      <td>3</td>\n",
       "      <td>4.1</td>\n",
       "      <td>Green</td>\n",
       "      <td>Very Good</td>\n",
       "      <td>1498</td>\n",
       "      <td>Indonesia</td>\n",
       "    </tr>\n",
       "    <tr>\n",
       "      <th>1</th>\n",
       "      <td>7410290</td>\n",
       "      <td>Satoo - Hotel Shangri-La</td>\n",
       "      <td>94</td>\n",
       "      <td>Jakarta</td>\n",
       "      <td>Hotel Shangri-La, Jl. Jend. Sudirman</td>\n",
       "      <td>Hotel Shangri-La, Sudirman</td>\n",
       "      <td>Hotel Shangri-La, Sudirman, Jakarta</td>\n",
       "      <td>106.818961</td>\n",
       "      <td>-6.203292</td>\n",
       "      <td>Asian, Indonesian, Western</td>\n",
       "      <td>800000</td>\n",
       "      <td>Indonesian Rupiah(IDR)</td>\n",
       "      <td>No</td>\n",
       "      <td>No</td>\n",
       "      <td>3</td>\n",
       "      <td>4.6</td>\n",
       "      <td>Dark Green</td>\n",
       "      <td>Excellent</td>\n",
       "      <td>873</td>\n",
       "      <td>Indonesia</td>\n",
       "    </tr>\n",
       "  </tbody>\n",
       "</table>\n",
       "</div>"
      ],
      "text/plain": [
       "   Restaurant ID           Restaurant Name  Country Code     City  \\\n",
       "0        7402935                      Skye            94  Jakarta   \n",
       "1        7410290  Satoo - Hotel Shangri-La            94  Jakarta   \n",
       "\n",
       "                                             Address  \\\n",
       "0  Menara BCA, Lantai 56, Jl. MH. Thamrin, Thamri...   \n",
       "1               Hotel Shangri-La, Jl. Jend. Sudirman   \n",
       "\n",
       "                        Locality                        Locality Verbose  \\\n",
       "0  Grand Indonesia Mall, Thamrin  Grand Indonesia Mall, Thamrin, Jakarta   \n",
       "1     Hotel Shangri-La, Sudirman     Hotel Shangri-La, Sudirman, Jakarta   \n",
       "\n",
       "    Longitude  Latitude                    Cuisines  Average Cost for two  \\\n",
       "0  106.821999 -6.196778        Italian, Continental                800000   \n",
       "1  106.818961 -6.203292  Asian, Indonesian, Western                800000   \n",
       "\n",
       "                 Currency Has Table booking Has Online delivery  Price range  \\\n",
       "0  Indonesian Rupiah(IDR)                No                  No            3   \n",
       "1  Indonesian Rupiah(IDR)                No                  No            3   \n",
       "\n",
       "   Aggregate rating Rating color Rating text  Votes    Country  \n",
       "0               4.1        Green   Very Good   1498  Indonesia  \n",
       "1               4.6   Dark Green   Excellent    873  Indonesia  "
      ]
     },
     "execution_count": 3,
     "metadata": {},
     "output_type": "execute_result"
    }
   ],
   "source": [
    "import pandas as pd\n",
    "\n",
    "# Load the cleaned dataset\n",
    "df = pd.read_csv(\"cleaned_restaurant_data.csv\")\n",
    "\n",
    "# Preview the data\n",
    "df.head(2)\n"
   ]
  },
  {
   "cell_type": "code",
   "execution_count": 14,
   "id": "dc811996-d74a-4f15-9d81-d5a0bd2ed930",
   "metadata": {},
   "outputs": [],
   "source": [
    "#Create a Currency Conversion Mapping \n",
    "\n",
    "# Example conversion rates (static for now)\n",
    "currency_conversion = {\n",
    "    'India': 0.012,\n",
    "    'Indonesia': 0.000063,\n",
    "    'Australia': 0.66,\n",
    "    'Brazil': 0.20,\n",
    "    'Canada': 0.74,\n",
    "    'Qatar': 0.27,\n",
    "    'Singapore': 0.74,\n",
    "    'Sri Lanka': 0.0031,\n",
    "    'UAE': 0.27,\n",
    "    'United Kingdom': 1.25,\n",
    "    'United States': 1.00,\n",
    "    'New Zealand': 0.60,\n",
    "    'South Africa': 0.052,\n",
    "    'Phillipines': 0.018,\n",
    "    'Turkey': 0.031\n",
    "}\n",
    "# Define a function to convert cost to USD\n",
    "def convert_to_usd(row):\n",
    "    rate = currency_conversion.get(row['Country'], None)\n",
    "    if rate is not None:\n",
    "        return row['Average Cost for two'] * rate\n",
    "    else:\n",
    "        return None  # or row['Average Cost for two'] if you want to keep it unchanged\n",
    "\n",
    "# Apply the conversion\n",
    "df['Avg Cost for Two (USD)'] = df.apply(convert_to_usd, axis=1)\n"
   ]
  },
  {
   "cell_type": "code",
   "execution_count": 16,
   "id": "79f726fb-bda4-41c8-9b9d-37341a3ca9af",
   "metadata": {},
   "outputs": [
    {
     "data": {
      "text/html": [
       "<div>\n",
       "<style scoped>\n",
       "    .dataframe tbody tr th:only-of-type {\n",
       "        vertical-align: middle;\n",
       "    }\n",
       "\n",
       "    .dataframe tbody tr th {\n",
       "        vertical-align: top;\n",
       "    }\n",
       "\n",
       "    .dataframe thead th {\n",
       "        text-align: right;\n",
       "    }\n",
       "</style>\n",
       "<table border=\"1\" class=\"dataframe\">\n",
       "  <thead>\n",
       "    <tr style=\"text-align: right;\">\n",
       "      <th></th>\n",
       "      <th>Country</th>\n",
       "      <th>Average Cost for two</th>\n",
       "      <th>Avg Cost for Two (USD)</th>\n",
       "    </tr>\n",
       "  </thead>\n",
       "  <tbody>\n",
       "    <tr>\n",
       "      <th>0</th>\n",
       "      <td>Indonesia</td>\n",
       "      <td>800000</td>\n",
       "      <td>50.40</td>\n",
       "    </tr>\n",
       "    <tr>\n",
       "      <th>1</th>\n",
       "      <td>Indonesia</td>\n",
       "      <td>800000</td>\n",
       "      <td>50.40</td>\n",
       "    </tr>\n",
       "    <tr>\n",
       "      <th>2</th>\n",
       "      <td>Indonesia</td>\n",
       "      <td>500000</td>\n",
       "      <td>31.50</td>\n",
       "    </tr>\n",
       "    <tr>\n",
       "      <th>3</th>\n",
       "      <td>Indonesia</td>\n",
       "      <td>450000</td>\n",
       "      <td>28.35</td>\n",
       "    </tr>\n",
       "    <tr>\n",
       "      <th>4</th>\n",
       "      <td>Indonesia</td>\n",
       "      <td>350000</td>\n",
       "      <td>22.05</td>\n",
       "    </tr>\n",
       "    <tr>\n",
       "      <th>5</th>\n",
       "      <td>Indonesia</td>\n",
       "      <td>300000</td>\n",
       "      <td>18.90</td>\n",
       "    </tr>\n",
       "    <tr>\n",
       "      <th>6</th>\n",
       "      <td>Indonesia</td>\n",
       "      <td>300000</td>\n",
       "      <td>18.90</td>\n",
       "    </tr>\n",
       "    <tr>\n",
       "      <th>7</th>\n",
       "      <td>Indonesia</td>\n",
       "      <td>250000</td>\n",
       "      <td>15.75</td>\n",
       "    </tr>\n",
       "    <tr>\n",
       "      <th>8</th>\n",
       "      <td>Indonesia</td>\n",
       "      <td>250000</td>\n",
       "      <td>15.75</td>\n",
       "    </tr>\n",
       "    <tr>\n",
       "      <th>9</th>\n",
       "      <td>Indonesia</td>\n",
       "      <td>200000</td>\n",
       "      <td>12.60</td>\n",
       "    </tr>\n",
       "  </tbody>\n",
       "</table>\n",
       "</div>"
      ],
      "text/plain": [
       "     Country  Average Cost for two  Avg Cost for Two (USD)\n",
       "0  Indonesia                800000                   50.40\n",
       "1  Indonesia                800000                   50.40\n",
       "2  Indonesia                500000                   31.50\n",
       "3  Indonesia                450000                   28.35\n",
       "4  Indonesia                350000                   22.05\n",
       "5  Indonesia                300000                   18.90\n",
       "6  Indonesia                300000                   18.90\n",
       "7  Indonesia                250000                   15.75\n",
       "8  Indonesia                250000                   15.75\n",
       "9  Indonesia                200000                   12.60"
      ]
     },
     "execution_count": 16,
     "metadata": {},
     "output_type": "execute_result"
    }
   ],
   "source": [
    "# Check a few rows with the new USD column\n",
    "df[['Country', 'Average Cost for two', 'Avg Cost for Two (USD)']].head(10)\n"
   ]
  },
  {
   "cell_type": "code",
   "execution_count": 18,
   "id": "8667f99e-8a29-4037-ab6a-2d4421fc56a7",
   "metadata": {},
   "outputs": [],
   "source": [
    "# Export the updated dataset with the USD column\n",
    "df.to_csv(\"transformed_restaurant_data.csv\", index=False)\n"
   ]
  },
  {
   "cell_type": "code",
   "execution_count": 20,
   "id": "7ec761c9-103e-4e45-bbc1-b1abca7e3e28",
   "metadata": {},
   "outputs": [
    {
     "name": "stdout",
     "output_type": "stream",
     "text": [
      "Countries missing conversion rate: []\n"
     ]
    }
   ],
   "source": [
    "# Countries in dataset but not in the conversion dictionary\n",
    "missing_countries = df[ df['Avg Cost for Two (USD)'].isnull() ]['Country'].unique()\n",
    "print(\"Countries missing conversion rate:\", missing_countries)\n"
   ]
  },
  {
   "cell_type": "code",
   "execution_count": 22,
   "id": "37e542b5-fd2c-4336-949c-eabc929b8b1e",
   "metadata": {},
   "outputs": [
    {
     "name": "stdout",
     "output_type": "stream",
     "text": [
      "Total Singapore Restaurants: 20\n",
      "With Online Delivery: 0\n"
     ]
    }
   ],
   "source": [
    "\n",
    "# Check how many Singapore restaurants have Online Delivery = Yes\n",
    "singapore_delivery = df[(df['Country'] == 'Singapore') & (df['Has Online delivery'] == 'Yes')]\n",
    "total_singapore = df[df['Country'] == 'Singapore']\n",
    "\n",
    "print(\"Total Singapore Restaurants:\", len(total_singapore))\n",
    "print(\"With Online Delivery:\", len(singapore_delivery))\n"
   ]
  },
  {
   "cell_type": "code",
   "execution_count": 3,
   "id": "d233c9fc-a08b-4303-a6e0-cc022465047e",
   "metadata": {},
   "outputs": [
    {
     "name": "stdout",
     "output_type": "stream",
     "text": [
      "Maximum number of cuisines per row: 8\n"
     ]
    }
   ],
   "source": [
    "import pandas as pd\n",
    "\n",
    "# Load your dataset\n",
    "df = pd.read_csv(\"transformed_restaurant_data.csv\")\n",
    "\n",
    "# Drop missing values in the 'Cuisines' column\n",
    "#df = df.dropna(subset=['Cuisines'])\n",
    "\n",
    "# Count the number of cuisines in each row (split by \", \")\n",
    "df['Cuisine Count'] = df['Cuisines'].apply(lambda x: len(x.split(', ')))\n",
    "\n",
    "# Check the max\n",
    "print(\"Maximum number of cuisines per row:\", df['Cuisine Count'].max())\n",
    "\n",
    "# Optional: check average or explore further\n",
    "# print(\"Average number of cuisines per row:\", df['Cuisine Count'].mean())"
   ]
  },
  {
   "cell_type": "markdown",
   "id": "ab219d95-2d5c-42c1-be91-5b2af813e4f3",
   "metadata": {},
   "source": [
    "### Splitting and Exploding the \"Cuisines\" Column\n",
    "\n",
    "While preparing visual insights for the dashboard in Tableau, we discovered that the **\"Cuisines\"** column contains **multiple cuisines combined into a single cell**, separated by commas (e.g., \"Italian, Continental, Cafe\"). This structure prevents accurate analysis of individual cuisine popularity, since Tableau treats the full string as a single value.\n",
    "\n",
    "Although Tableau offers a **\"Split\"** function, it only handles up to 4 or 5 components, and our analysis showed that some restaurants in the dataset list up to **8 cuisines** per row. Therefore, we cannot rely on Tableau alone to properly split and count individual cuisines.\n",
    "\n",
    "To resolve this and ensure data integrity, we are using Python to:\n",
    "1. **Split** each combined cuisine string into individual cuisines\n",
    "2. **Explode** the dataset so each row represents one cuisine per restaurant\n",
    "\n",
    "This transformation enables us to analyze and visualize cuisine popularity correctly in Tableau using a clean, structured dataset.\n"
   ]
  },
  {
   "cell_type": "code",
   "execution_count": 7,
   "id": "54a7ae49-4b1b-4088-a169-2801c80bac73",
   "metadata": {},
   "outputs": [
    {
     "data": {
      "text/html": [
       "<div>\n",
       "<style scoped>\n",
       "    .dataframe tbody tr th:only-of-type {\n",
       "        vertical-align: middle;\n",
       "    }\n",
       "\n",
       "    .dataframe tbody tr th {\n",
       "        vertical-align: top;\n",
       "    }\n",
       "\n",
       "    .dataframe thead th {\n",
       "        text-align: right;\n",
       "    }\n",
       "</style>\n",
       "<table border=\"1\" class=\"dataframe\">\n",
       "  <thead>\n",
       "    <tr style=\"text-align: right;\">\n",
       "      <th></th>\n",
       "      <th>Restaurant Name</th>\n",
       "      <th>Cuisines</th>\n",
       "    </tr>\n",
       "  </thead>\n",
       "  <tbody>\n",
       "    <tr>\n",
       "      <th>0</th>\n",
       "      <td>Skye</td>\n",
       "      <td>Italian</td>\n",
       "    </tr>\n",
       "    <tr>\n",
       "      <th>0</th>\n",
       "      <td>Skye</td>\n",
       "      <td>Continental</td>\n",
       "    </tr>\n",
       "    <tr>\n",
       "      <th>1</th>\n",
       "      <td>Satoo - Hotel Shangri-La</td>\n",
       "      <td>Asian</td>\n",
       "    </tr>\n",
       "    <tr>\n",
       "      <th>1</th>\n",
       "      <td>Satoo - Hotel Shangri-La</td>\n",
       "      <td>Indonesian</td>\n",
       "    </tr>\n",
       "    <tr>\n",
       "      <th>1</th>\n",
       "      <td>Satoo - Hotel Shangri-La</td>\n",
       "      <td>Western</td>\n",
       "    </tr>\n",
       "    <tr>\n",
       "      <th>2</th>\n",
       "      <td>Sushi Masa</td>\n",
       "      <td>Sushi</td>\n",
       "    </tr>\n",
       "    <tr>\n",
       "      <th>2</th>\n",
       "      <td>Sushi Masa</td>\n",
       "      <td>Japanese</td>\n",
       "    </tr>\n",
       "    <tr>\n",
       "      <th>3</th>\n",
       "      <td>3 Wise Monkeys</td>\n",
       "      <td>Japanese</td>\n",
       "    </tr>\n",
       "    <tr>\n",
       "      <th>4</th>\n",
       "      <td>Avec Moi Restaurant and Bar</td>\n",
       "      <td>French</td>\n",
       "    </tr>\n",
       "    <tr>\n",
       "      <th>4</th>\n",
       "      <td>Avec Moi Restaurant and Bar</td>\n",
       "      <td>Western</td>\n",
       "    </tr>\n",
       "  </tbody>\n",
       "</table>\n",
       "</div>"
      ],
      "text/plain": [
       "               Restaurant Name     Cuisines\n",
       "0                         Skye      Italian\n",
       "0                         Skye  Continental\n",
       "1     Satoo - Hotel Shangri-La        Asian\n",
       "1     Satoo - Hotel Shangri-La   Indonesian\n",
       "1     Satoo - Hotel Shangri-La      Western\n",
       "2                   Sushi Masa        Sushi\n",
       "2                   Sushi Masa     Japanese\n",
       "3               3 Wise Monkeys     Japanese\n",
       "4  Avec Moi Restaurant and Bar       French\n",
       "4  Avec Moi Restaurant and Bar      Western"
      ]
     },
     "execution_count": 7,
     "metadata": {},
     "output_type": "execute_result"
    }
   ],
   "source": [
    "# Step: Splitting and Exploding the Cuisines Column\n",
    "\n",
    "# Drop rows with missing cuisines (just in case)\n",
    "df_cleaned = df.dropna(subset=['Cuisines']).copy()\n",
    "\n",
    "# Split the 'Cuisines' column by comma and explode into separate rows\n",
    "df_cleaned['Cuisines'] = df_cleaned['Cuisines'].str.split(', ')\n",
    "df_exploded = df_cleaned.explode('Cuisines')\n",
    "\n",
    "# Remove any leading/trailing whitespace (extra clean)\n",
    "df_exploded['Cuisines'] = df_exploded['Cuisines'].str.strip()\n",
    "\n",
    "# Preview the result\n",
    "df_exploded[['Restaurant Name', 'Cuisines']].head(10)\n"
   ]
  },
  {
   "cell_type": "markdown",
   "id": "cf04e7df-06fe-4c5c-821f-4972b0068bdc",
   "metadata": {},
   "source": [
    "This will:\n",
    "\n",
    "- Make sure each cuisine gets its own row\n",
    "\n",
    "- Preserve other restaurant-level data\n",
    "\n",
    "- Help Tableau recognize and count cuisines correctly"
   ]
  },
  {
   "cell_type": "code",
   "execution_count": 13,
   "id": "e094f029-96a2-414f-a389-9a51f4662d7d",
   "metadata": {},
   "outputs": [],
   "source": [
    "# Export the exploded cuisine dataset for Tableau\n",
    "df_exploded.to_csv(\"exploded_cuisine_data.csv\", index=False)\n"
   ]
  },
  {
   "cell_type": "code",
   "execution_count": null,
   "id": "0efa3946-d7f0-4655-876e-98e94fc8e935",
   "metadata": {},
   "outputs": [],
   "source": []
  }
 ],
 "metadata": {
  "kernelspec": {
   "display_name": "Python [conda env:base] *",
   "language": "python",
   "name": "conda-base-py"
  },
  "language_info": {
   "codemirror_mode": {
    "name": "ipython",
    "version": 3
   },
   "file_extension": ".py",
   "mimetype": "text/x-python",
   "name": "python",
   "nbconvert_exporter": "python",
   "pygments_lexer": "ipython3",
   "version": "3.12.7"
  }
 },
 "nbformat": 4,
 "nbformat_minor": 5
}
